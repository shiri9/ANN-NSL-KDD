{
  "cells": [
    {
      "cell_type": "markdown",
      "metadata": {
        "id": "view-in-github",
        "colab_type": "text"
      },
      "source": [
        "<a href=\"https://colab.research.google.com/github/shiri9/ANN-NSL-KDD/blob/main/ANN_NSL_KDD.ipynb\" target=\"_parent\"><img src=\"https://colab.research.google.com/assets/colab-badge.svg\" alt=\"Open In Colab\"/></a>"
      ]
    },
    {
      "cell_type": "code",
      "execution_count": 17,
      "metadata": {
        "id": "3mTJe-UAByMW"
      },
      "outputs": [],
      "source": [
        "import pandas as pd\n",
        "import numpy as np\n",
        "import matplotlib.pyplot as plt\n",
        "from sklearn.preprocessing import LabelEncoder,OneHotEncoder"
      ]
    },
    {
      "cell_type": "code",
      "execution_count": 18,
      "metadata": {
        "colab": {
          "base_uri": "https://localhost:8080/"
        },
        "id": "B0HgAVV3IpSj",
        "outputId": "4aae79c3-84b0-4f8d-bb25-5d55c0e5167a"
      },
      "outputs": [
        {
          "output_type": "stream",
          "name": "stdout",
          "text": [
            "Drive already mounted at /content/drive; to attempt to forcibly remount, call drive.mount(\"/content/drive\", force_remount=True).\n"
          ]
        }
      ],
      "source": [
        "from google.colab import drive\n",
        "drive.mount('/content/drive')"
      ]
    },
    {
      "cell_type": "code",
      "execution_count": 19,
      "metadata": {
        "id": "CIwB8mhNI5kQ"
      },
      "outputs": [],
      "source": [
        "#reading training csv file from google drive\n",
        "df_train = pd.read_csv('/content/drive/MyDrive/Colab Notebooks/kdd_train.csv')\n",
        "df_test = pd.read_csv('/content/drive/MyDrive/Colab Notebooks/kdd_test.csv')"
      ]
    },
    {
      "cell_type": "code",
      "execution_count": 20,
      "metadata": {
        "colab": {
          "base_uri": "https://localhost:8080/"
        },
        "id": "Ak8hEIowKe5V",
        "outputId": "91f83893-5912-46c0-a8bd-8cf766f21970"
      },
      "outputs": [
        {
          "output_type": "execute_result",
          "data": {
            "text/plain": [
              "(125973, 42)"
            ]
          },
          "metadata": {},
          "execution_count": 20
        }
      ],
      "source": [
        "#getting number of rows and columns\n",
        "df_train.shape"
      ]
    },
    {
      "cell_type": "code",
      "source": [
        "#getting number of rows and columns\n",
        "df_test.shape"
      ],
      "metadata": {
        "colab": {
          "base_uri": "https://localhost:8080/"
        },
        "id": "-HD2qQbvCYRn",
        "outputId": "55e49146-01b7-4abd-8529-6d05c345de0e"
      },
      "execution_count": 21,
      "outputs": [
        {
          "output_type": "execute_result",
          "data": {
            "text/plain": [
              "(22544, 42)"
            ]
          },
          "metadata": {},
          "execution_count": 21
        }
      ]
    },
    {
      "cell_type": "code",
      "execution_count": 22,
      "metadata": {
        "colab": {
          "base_uri": "https://localhost:8080/"
        },
        "id": "1y0xE8ryLzgY",
        "outputId": "30694e9f-b336-4b3e-800a-e630a68d0025"
      },
      "outputs": [
        {
          "output_type": "execute_result",
          "data": {
            "text/plain": [
              "labels\n",
              "back                 956\n",
              "buffer_overflow       30\n",
              "ftp_write              8\n",
              "guess_passwd          53\n",
              "imap                  11\n",
              "ipsweep             3599\n",
              "land                  18\n",
              "loadmodule             9\n",
              "multihop               7\n",
              "neptune            41214\n",
              "nmap                1493\n",
              "normal             67343\n",
              "perl                   3\n",
              "phf                    4\n",
              "pod                  201\n",
              "portsweep           2931\n",
              "rootkit               10\n",
              "satan               3633\n",
              "smurf               2646\n",
              "spy                    2\n",
              "teardrop             892\n",
              "warezclient          890\n",
              "warezmaster           20\n",
              "Name: labels, dtype: int64"
            ]
          },
          "metadata": {},
          "execution_count": 22
        }
      ],
      "source": [
        "#checking the number of output labels in the train dataset\n",
        "len(df_train.groupby('labels')['labels'].agg('count'))\n",
        "\n",
        "df_train.groupby('labels')['labels'].agg('count')"
      ]
    },
    {
      "cell_type": "code",
      "source": [
        "#checking the number of output labels in the test dataset\n",
        "len(df_test.groupby('labels')['labels'].agg('count'))\n",
        "\n",
        "df_test.groupby('labels')['labels'].agg('count')"
      ],
      "metadata": {
        "colab": {
          "base_uri": "https://localhost:8080/"
        },
        "id": "IdrT3ed6CpmO",
        "outputId": "24c4d34e-2435-430b-fd1e-e8e60f427424"
      },
      "execution_count": 23,
      "outputs": [
        {
          "output_type": "execute_result",
          "data": {
            "text/plain": [
              "labels\n",
              "apache2              228\n",
              "back                 227\n",
              "buffer_overflow       17\n",
              "ftp_write              2\n",
              "guess_passwd         411\n",
              "httptunnel            41\n",
              "imap                   2\n",
              "ipsweep              479\n",
              "land                   2\n",
              "loadmodule             4\n",
              "mailbomb              94\n",
              "mscan                310\n",
              "multihop               9\n",
              "named                  2\n",
              "neptune             6654\n",
              "nmap                 206\n",
              "normal             11245\n",
              "perl                   1\n",
              "phf                    1\n",
              "pod                   35\n",
              "portsweep            371\n",
              "processtable         211\n",
              "ps                     9\n",
              "rootkit                4\n",
              "saint                 93\n",
              "satan                698\n",
              "sendmail               8\n",
              "smurf                540\n",
              "snmpgetattack         43\n",
              "snmpguess             99\n",
              "teardrop             104\n",
              "warezclient          107\n",
              "warezmaster          279\n",
              "xlock                  4\n",
              "xsnoop                 1\n",
              "xterm                  3\n",
              "Name: labels, dtype: int64"
            ]
          },
          "metadata": {},
          "execution_count": 23
        }
      ]
    },
    {
      "cell_type": "code",
      "execution_count": 24,
      "metadata": {
        "colab": {
          "base_uri": "https://localhost:8080/"
        },
        "id": "XXVtvWP9O_hC",
        "outputId": "cad93329-db42-4d1d-bebc-fa89fe281765"
      },
      "outputs": [
        {
          "output_type": "execute_result",
          "data": {
            "text/plain": [
              "duration                       0\n",
              "protocol_type                  0\n",
              "service                        0\n",
              "flag                           0\n",
              "src_bytes                      0\n",
              "dst_bytes                      0\n",
              "land                           0\n",
              "wrong_fragment                 0\n",
              "urgent                         0\n",
              "hot                            0\n",
              "num_failed_logins              0\n",
              "logged_in                      0\n",
              "num_compromised                0\n",
              "root_shell                     0\n",
              "su_attempted                   0\n",
              "num_root                       0\n",
              "num_file_creations             0\n",
              "num_shells                     0\n",
              "num_access_files               0\n",
              "num_outbound_cmds              0\n",
              "is_host_login                  0\n",
              "is_guest_login                 0\n",
              "count                          0\n",
              "srv_count                      0\n",
              "serror_rate                    0\n",
              "srv_serror_rate                0\n",
              "rerror_rate                    0\n",
              "srv_rerror_rate                0\n",
              "same_srv_rate                  0\n",
              "diff_srv_rate                  0\n",
              "srv_diff_host_rate             0\n",
              "dst_host_count                 0\n",
              "dst_host_srv_count             0\n",
              "dst_host_same_srv_rate         0\n",
              "dst_host_diff_srv_rate         0\n",
              "dst_host_same_src_port_rate    0\n",
              "dst_host_srv_diff_host_rate    0\n",
              "dst_host_serror_rate           0\n",
              "dst_host_srv_serror_rate       0\n",
              "dst_host_rerror_rate           0\n",
              "dst_host_srv_rerror_rate       0\n",
              "labels                         0\n",
              "dtype: int64"
            ]
          },
          "metadata": {},
          "execution_count": 24
        }
      ],
      "source": [
        "#Pre-processing\n",
        "#step 1: Checking if there are any null values in the training dataset\n",
        "df_train.isnull().sum()"
      ]
    },
    {
      "cell_type": "code",
      "source": [
        "#Pre-processing\n",
        "#step 1: Checking if there are any null values in the test dataset\n",
        "df_test.isnull().sum()"
      ],
      "metadata": {
        "colab": {
          "base_uri": "https://localhost:8080/"
        },
        "id": "hKo9fFzOyAXT",
        "outputId": "39ed0c70-ce33-42b5-ef83-ee472318ae89"
      },
      "execution_count": 25,
      "outputs": [
        {
          "output_type": "execute_result",
          "data": {
            "text/plain": [
              "duration                       0\n",
              "protocol_type                  0\n",
              "service                        0\n",
              "flag                           0\n",
              "src_bytes                      0\n",
              "dst_bytes                      0\n",
              "land                           0\n",
              "wrong_fragment                 0\n",
              "urgent                         0\n",
              "hot                            0\n",
              "num_failed_logins              0\n",
              "logged_in                      0\n",
              "num_compromised                0\n",
              "root_shell                     0\n",
              "su_attempted                   0\n",
              "num_root                       0\n",
              "num_file_creations             0\n",
              "num_shells                     0\n",
              "num_access_files               0\n",
              "num_outbound_cmds              0\n",
              "is_host_login                  0\n",
              "is_guest_login                 0\n",
              "count                          0\n",
              "srv_count                      0\n",
              "serror_rate                    0\n",
              "srv_serror_rate                0\n",
              "rerror_rate                    0\n",
              "srv_rerror_rate                0\n",
              "same_srv_rate                  0\n",
              "diff_srv_rate                  0\n",
              "srv_diff_host_rate             0\n",
              "dst_host_count                 0\n",
              "dst_host_srv_count             0\n",
              "dst_host_same_srv_rate         0\n",
              "dst_host_diff_srv_rate         0\n",
              "dst_host_same_src_port_rate    0\n",
              "dst_host_srv_diff_host_rate    0\n",
              "dst_host_serror_rate           0\n",
              "dst_host_srv_serror_rate       0\n",
              "dst_host_rerror_rate           0\n",
              "dst_host_srv_rerror_rate       0\n",
              "labels                         0\n",
              "dtype: int64"
            ]
          },
          "metadata": {},
          "execution_count": 25
        }
      ]
    },
    {
      "cell_type": "code",
      "execution_count": 26,
      "metadata": {
        "colab": {
          "base_uri": "https://localhost:8080/"
        },
        "id": "nYXwJzlrj2vM",
        "outputId": "8b059275-71a2-4110-b902-0d101b299709"
      },
      "outputs": [
        {
          "output_type": "execute_result",
          "data": {
            "text/plain": [
              "23"
            ]
          },
          "metadata": {},
          "execution_count": 26
        }
      ],
      "source": [
        "#creating a copy of training data frame \"df\"\n",
        "df1_train = df_train.copy()\n",
        "\n",
        "#checking the count of labels (output class) in the training dataset\n",
        "len(df1_train.labels.unique())"
      ]
    },
    {
      "cell_type": "code",
      "execution_count": 27,
      "metadata": {
        "colab": {
          "base_uri": "https://localhost:8080/"
        },
        "id": "_Z3asrYEuT7n",
        "outputId": "6b12f8e9-80e9-4f0b-cc7d-a870bb02322b"
      },
      "outputs": [
        {
          "output_type": "execute_result",
          "data": {
            "text/plain": [
              "(125973, 42)"
            ]
          },
          "metadata": {},
          "execution_count": 27
        }
      ],
      "source": [
        "#cleaning spaces before and after the output label\n",
        "df1_train.labels = df1_train.labels.apply(lambda x: x.strip())\n",
        "df1_train.shape"
      ]
    },
    {
      "cell_type": "code",
      "source": [
        "#creating a copy of test data frame \"df\"\n",
        "df1_test = df_test.copy()\n",
        "\n",
        "#checking the count of labels (output class) in the training dataset\n",
        "len(df1_test.labels.unique())"
      ],
      "metadata": {
        "colab": {
          "base_uri": "https://localhost:8080/"
        },
        "id": "ZgbazRLDy4jZ",
        "outputId": "0d3b8fd3-a2f1-45d8-c56c-04414c5a3b03"
      },
      "execution_count": 28,
      "outputs": [
        {
          "output_type": "execute_result",
          "data": {
            "text/plain": [
              "36"
            ]
          },
          "metadata": {},
          "execution_count": 28
        }
      ]
    },
    {
      "cell_type": "code",
      "source": [
        "#cleaning spaces before and after the output label\n",
        "df1_test.labels = df1_test.labels.apply(lambda x: x.strip())\n",
        "df1_test.shape"
      ],
      "metadata": {
        "colab": {
          "base_uri": "https://localhost:8080/"
        },
        "id": "X3QFkWhgzNmb",
        "outputId": "e41546b4-1640-4b15-b6f0-2a21c489462d"
      },
      "execution_count": 29,
      "outputs": [
        {
          "output_type": "execute_result",
          "data": {
            "text/plain": [
              "(22544, 42)"
            ]
          },
          "metadata": {},
          "execution_count": 29
        }
      ]
    },
    {
      "cell_type": "code",
      "execution_count": 30,
      "metadata": {
        "id": "z-TlrISPq0Eh"
      },
      "outputs": [],
      "source": [
        "#Encoding categories in 0-Normal, 1-DoS, 2-Probe, 3-R2L, 4-U2R\n",
        "df1_train_labels = df1_train['labels']\n",
        "df1_train_labels_in_numbers = df1_train_labels.replace({ 'normal' : 0, 'neptune' : 1,'land' : 1, 'back': 1, 'teardrop': 1, 'pod': 1, 'smurf' : 1,\n",
        "                                                     'ipsweep' : 2, 'nmap' : 2, 'portsweep' : 2, 'satan' : 2,\n",
        "                                                     'phf': 3, 'multihop': 3, 'warezclient': 3,'warezmaster': 3, 'spy': 3, 'ftp_write' : 3,\n",
        "                                                     'guess_passwd': 3,'imap': 3,\n",
        "                                                     'buffer_overflow': 4, 'loadmodule': 4,'perl': 4,  'rootkit': 4 })\n",
        "#replacing the string output clsses by numbers\n",
        "df1_train['labels'] = df1_train_labels_in_numbers"
      ]
    },
    {
      "cell_type": "code",
      "source": [
        "#Encoding categories in 0-Normal, 1-DoS, 2-Probe, 3-R2L, 4-U2R\n",
        "df1_test_labels = df1_test['labels']\n",
        "df1_test_labels_in_numbers = df1_test_labels.replace({ 'normal' : 0, 'neptune' : 1 ,'back': 1, 'land': 1, 'pod': 1, 'smurf': 1,\n",
        "                                                      'teardrop': 1,'mailbomb': 1, 'apache2': 1, 'processtable': 1,\n",
        "                                                     'ipsweep' : 2, 'nmap' : 2, 'portsweep' : 2, 'satan' : 2, 'mscan' : 2,'saint' : 2,\n",
        "                                                     'ftp_write': 3,'guess_passwd': 3,'imap': 3,'multihop': 3,'phf': 3, 'warezclient': 3,\n",
        "                                                       'warezmaster': 3,'sendmail': 3,'named': 3,'snmpgetattack': 3,'snmpguess': 3,'xlock': 3,\n",
        "                                                       'xsnoop': 3,'httptunnel': 3,\n",
        "                                                     'buffer_overflow': 4, 'loadmodule': 4,'perl': 4,  'rootkit': 4, 'ps': 4,'xterm': 4 })\n",
        "#replacing the string output clsses by numbers\n",
        "df1_test['labels'] = df1_test_labels_in_numbers\n"
      ],
      "metadata": {
        "id": "k_C0HtUU2L7A"
      },
      "execution_count": 31,
      "outputs": []
    },
    {
      "cell_type": "code",
      "execution_count": 32,
      "metadata": {
        "colab": {
          "base_uri": "https://localhost:8080/"
        },
        "id": "bV-td1u63795",
        "outputId": "3e918ac9-1f6e-4d8a-84d8-4e79008fef90"
      },
      "outputs": [
        {
          "output_type": "execute_result",
          "data": {
            "text/plain": [
              "protocol_type\n",
              "icmp      8291\n",
              "tcp     102689\n",
              "udp      14993\n",
              "Name: protocol_type, dtype: int64"
            ]
          },
          "metadata": {},
          "execution_count": 32
        }
      ],
      "source": [
        "df1_train.groupby('protocol_type')['protocol_type'].agg('count')"
      ]
    },
    {
      "cell_type": "code",
      "source": [
        "df1_test.groupby('protocol_type')['protocol_type'].agg('count')"
      ],
      "metadata": {
        "colab": {
          "base_uri": "https://localhost:8080/"
        },
        "id": "qtfu8Wjc60qi",
        "outputId": "787f5696-92f8-44f0-a93c-9bac8c3dfda5"
      },
      "execution_count": 33,
      "outputs": [
        {
          "output_type": "execute_result",
          "data": {
            "text/plain": [
              "protocol_type\n",
              "icmp     1335\n",
              "tcp     18508\n",
              "udp      2701\n",
              "Name: protocol_type, dtype: int64"
            ]
          },
          "metadata": {},
          "execution_count": 33
        }
      ]
    },
    {
      "cell_type": "code",
      "execution_count": 34,
      "metadata": {
        "colab": {
          "base_uri": "https://localhost:8080/"
        },
        "id": "4ZxM9FvA4a68",
        "outputId": "7e01304f-0b7a-4b1d-a6bd-0e1b34d0d28e"
      },
      "outputs": [
        {
          "output_type": "execute_result",
          "data": {
            "text/plain": [
              "service\n",
              "IRC          187\n",
              "X11           73\n",
              "Z39_50       862\n",
              "aol            2\n",
              "auth         955\n",
              "            ... \n",
              "urp_i        602\n",
              "uucp         780\n",
              "uucp_path    689\n",
              "vmnet        617\n",
              "whois        693\n",
              "Name: service, Length: 70, dtype: int64"
            ]
          },
          "metadata": {},
          "execution_count": 34
        }
      ],
      "source": [
        "df1_train.groupby('service')['service'].agg('count')"
      ]
    },
    {
      "cell_type": "code",
      "source": [
        "df1_test.groupby('service')['service'].agg('count')"
      ],
      "metadata": {
        "colab": {
          "base_uri": "https://localhost:8080/"
        },
        "id": "DbSB9OzZ694o",
        "outputId": "385a9f0e-c865-4f25-9079-e6c0ad6b5768"
      },
      "execution_count": 35,
      "outputs": [
        {
          "output_type": "execute_result",
          "data": {
            "text/plain": [
              "service\n",
              "IRC           22\n",
              "X11           13\n",
              "Z39_50       120\n",
              "aol            1\n",
              "auth         140\n",
              "            ... \n",
              "urp_i         75\n",
              "uucp         119\n",
              "uucp_path    123\n",
              "vmnet         97\n",
              "whois        104\n",
              "Name: service, Length: 66, dtype: int64"
            ]
          },
          "metadata": {},
          "execution_count": 35
        }
      ]
    },
    {
      "cell_type": "code",
      "execution_count": 36,
      "metadata": {
        "colab": {
          "base_uri": "https://localhost:8080/"
        },
        "id": "CG3tY_Ra4nlc",
        "outputId": "3cd56d52-da23-4a60-9041-b7ae86d86ddc"
      },
      "outputs": [
        {
          "output_type": "execute_result",
          "data": {
            "text/plain": [
              "flag\n",
              "OTH          46\n",
              "REJ       11233\n",
              "RSTO       1562\n",
              "RSTOS0      103\n",
              "RSTR       2421\n",
              "S0        34851\n",
              "S1          365\n",
              "S2          127\n",
              "S3           49\n",
              "SF        74945\n",
              "SH          271\n",
              "Name: flag, dtype: int64"
            ]
          },
          "metadata": {},
          "execution_count": 36
        }
      ],
      "source": [
        "df1_train.groupby('flag')['flag'].agg('count')"
      ]
    },
    {
      "cell_type": "code",
      "source": [
        "df1_test.groupby('flag')['flag'].agg('count')"
      ],
      "metadata": {
        "colab": {
          "base_uri": "https://localhost:8080/"
        },
        "id": "ydryP58P7T2v",
        "outputId": "cb921a4f-4893-42b8-a45e-047a52d4868a"
      },
      "execution_count": 37,
      "outputs": [
        {
          "output_type": "execute_result",
          "data": {
            "text/plain": [
              "flag\n",
              "OTH           4\n",
              "REJ        2596\n",
              "RSTO        447\n",
              "RSTOS0       12\n",
              "RSTR        489\n",
              "S0         4993\n",
              "S1           46\n",
              "S2           20\n",
              "S3           79\n",
              "SF        13803\n",
              "SH           55\n",
              "Name: flag, dtype: int64"
            ]
          },
          "metadata": {},
          "execution_count": 37
        }
      ]
    },
    {
      "cell_type": "code",
      "execution_count": 38,
      "metadata": {
        "id": "CuSMZ-JEZ0rt"
      },
      "outputs": [],
      "source": [
        "#Transform categorical features into numbers using LabelEncoder() from train dataset\n",
        "df1_train = df1_train.apply(LabelEncoder().fit_transform)\n",
        "dftrain = df1_train\n",
        "\n",
        "#Transform categorical features into numbers using LabelEncoder() from test dataset\n",
        "df1_test = df1_test.apply(LabelEncoder().fit_transform)\n",
        "dftest = df1_test"
      ]
    },
    {
      "cell_type": "code",
      "execution_count": 39,
      "metadata": {
        "colab": {
          "base_uri": "https://localhost:8080/"
        },
        "id": "VOBhYZLXjWuL",
        "outputId": "49c11725-1281-4720-d2ec-1908d198c032"
      },
      "outputs": [
        {
          "output_type": "execute_result",
          "data": {
            "text/plain": [
              "Index(['num_outbound_cmds'], dtype='object')"
            ]
          },
          "metadata": {},
          "execution_count": 39
        }
      ],
      "source": [
        "#checking columns with no values other than ZERO\n",
        "zero_columns_train_set = df1_train.columns[(df1_train == 0).all()]\n",
        "zero_columns_train_set"
      ]
    },
    {
      "cell_type": "code",
      "source": [
        "#checking columns with no values other than ZERO\n",
        "zero_columns_test_set = df1_train.columns[(df1_train == 0).all()]\n",
        "zero_columns_test_set"
      ],
      "metadata": {
        "colab": {
          "base_uri": "https://localhost:8080/"
        },
        "id": "MmMeqzlz8qHJ",
        "outputId": "526d1882-b5d1-4db1-d3ff-7724a1285c27"
      },
      "execution_count": 40,
      "outputs": [
        {
          "output_type": "execute_result",
          "data": {
            "text/plain": [
              "Index(['num_outbound_cmds'], dtype='object')"
            ]
          },
          "metadata": {},
          "execution_count": 40
        }
      ]
    },
    {
      "cell_type": "code",
      "execution_count": 41,
      "metadata": {
        "id": "o0ia1kfMuk94"
      },
      "outputs": [],
      "source": [
        "# Dropping the column \"num_outbound_cmds\" from train and test datasets\n",
        "df1_train = df1_train.drop('num_outbound_cmds', axis=1)\n",
        "df1_test = df1_test.drop('num_outbound_cmds', axis=1)"
      ]
    },
    {
      "cell_type": "code",
      "execution_count": 42,
      "metadata": {
        "colab": {
          "base_uri": "https://localhost:8080/"
        },
        "id": "7mqFQkpSvr_V",
        "outputId": "6c533ee6-da77-4c5f-86db-90b74f48d27d"
      },
      "outputs": [
        {
          "output_type": "stream",
          "name": "stdout",
          "text": [
            "duration                        268.914319\n",
            "protocol_type                     0.426620\n",
            "service                          16.346470\n",
            "flag                              2.689365\n",
            "src_bytes                       596.576429\n",
            "dst_bytes                      1838.795514\n",
            "land                              0.014086\n",
            "wrong_fragment                    0.171638\n",
            "urgent                            0.014366\n",
            "hot                               1.779471\n",
            "num_failed_logins                 0.045239\n",
            "logged_in                         0.489010\n",
            "num_compromised                   1.381835\n",
            "root_shell                        0.036603\n",
            "su_attempted                      0.045154\n",
            "num_root                          1.271473\n",
            "num_file_creations                0.450387\n",
            "num_shells                        0.022181\n",
            "num_access_files                  0.099370\n",
            "is_host_login                     0.002817\n",
            "is_guest_login                    0.096612\n",
            "count                           114.508607\n",
            "srv_count                        72.440598\n",
            "serror_rate                      39.262120\n",
            "srv_serror_rate                  38.008767\n",
            "rerror_rate                      25.868457\n",
            "srv_rerror_rate                  19.734811\n",
            "same_srv_rate                    43.962286\n",
            "diff_srv_rate                    17.040330\n",
            "srv_diff_host_rate               16.600484\n",
            "dst_host_count                   99.206213\n",
            "dst_host_srv_count              110.702741\n",
            "dst_host_same_srv_rate           44.894936\n",
            "dst_host_diff_srv_rate           18.892180\n",
            "dst_host_same_src_port_rate      30.899713\n",
            "dst_host_srv_diff_host_rate      10.091270\n",
            "dst_host_serror_rate             44.478405\n",
            "dst_host_srv_serror_rate         44.126713\n",
            "dst_host_rerror_rate             30.655746\n",
            "dst_host_srv_rerror_rate         31.945939\n",
            "labels                            0.694105\n",
            "dtype: float64\n"
          ]
        }
      ],
      "source": [
        "#checking standard deviation in train dataset\n",
        "standard_deviation_train = df1_train.std()\n",
        "print(standard_deviation_train)"
      ]
    },
    {
      "cell_type": "code",
      "source": [
        "#checking standard deviation in test dataset\n",
        "standard_deviation_test = df1_test.std()\n",
        "print(standard_deviation_test)"
      ],
      "metadata": {
        "colab": {
          "base_uri": "https://localhost:8080/"
        },
        "id": "kGI3sTwb9JPB",
        "outputId": "fd36ee5d-47a9-4b96-ca1e-49339f0cbd50"
      },
      "execution_count": 43,
      "outputs": [
        {
          "output_type": "stream",
          "name": "stdout",
          "text": [
            "duration                        73.241592\n",
            "protocol_type                    0.418765\n",
            "service                         15.093625\n",
            "flag                             2.865630\n",
            "src_bytes                      336.307726\n",
            "dst_bytes                      910.095804\n",
            "land                             0.009419\n",
            "wrong_fragment                   0.148155\n",
            "urgent                           0.016313\n",
            "hot                              1.034537\n",
            "num_failed_logins                0.104942\n",
            "logged_in                        0.491114\n",
            "num_compromised                  0.612202\n",
            "root_shell                       0.045126\n",
            "su_attempted                     0.045160\n",
            "num_root                         0.593210\n",
            "num_file_creations               0.206240\n",
            "num_shells                       0.031232\n",
            "num_access_files                 0.085980\n",
            "is_host_login                    0.006660\n",
            "is_guest_login                   0.119922\n",
            "count                          115.894433\n",
            "srv_count                       69.991317\n",
            "serror_rate                     34.902953\n",
            "srv_serror_rate                 27.114212\n",
            "rerror_rate                     29.957807\n",
            "srv_rerror_rate                 28.351440\n",
            "same_srv_rate                   41.542578\n",
            "diff_srv_rate                   18.930510\n",
            "srv_diff_host_rate              18.906706\n",
            "dst_host_count                  97.508604\n",
            "dst_host_srv_count             111.577695\n",
            "dst_host_same_srv_rate          44.707852\n",
            "dst_host_diff_srv_rate          19.981320\n",
            "dst_host_same_src_port_rate     30.553805\n",
            "dst_host_srv_diff_host_rate      8.046297\n",
            "dst_host_serror_rate            40.656327\n",
            "dst_host_srv_serror_rate        40.832531\n",
            "dst_host_rerror_rate            33.925540\n",
            "dst_host_srv_rerror_rate        35.051132\n",
            "labels                           0.832770\n",
            "dtype: float64\n"
          ]
        }
      ]
    },
    {
      "cell_type": "code",
      "source": [
        "from sklearn.preprocessing import MinMaxScaler\n",
        "\n",
        "# Select the columns to be normalized (assuming they are numerical features)\n",
        "numerical_columns = ['duration', 'src_bytes', 'dst_bytes', 'count', 'srv_count', 'serror_rate', 'srv_serror_rate', 'same_srv_rate',\n",
        "                     'dst_host_count', 'dst_host_srv_count', 'dst_host_same_srv_rate', 'dst_host_diff_srv_rate',\n",
        "                     'dst_host_same_src_port_rate','dst_host_serror_rate', 'dst_host_srv_serror_rate', 'rerror_rate',\n",
        "                     'srv_rerror_rate','diff_srv_rate', 'srv_diff_host_rate', 'dst_host_srv_diff_host_rate',\n",
        "                     'dst_host_rerror_rate', 'dst_host_srv_rerror_rate','hot','num_compromised','num_root',]\n",
        "\n",
        "# Initialize the MinMaxScaler\n",
        "scaler = MinMaxScaler()\n",
        "\n",
        "# Fit the scaler to the selected columns\n",
        "scaler.fit(df1_train[numerical_columns])\n",
        "\n",
        "# Transform the selected columns with the scaler\n",
        "df1_train[numerical_columns] = scaler.transform(df1_train[numerical_columns])"
      ],
      "metadata": {
        "id": "kW6_kdXL9rD5"
      },
      "execution_count": 44,
      "outputs": []
    },
    {
      "cell_type": "code",
      "source": [
        "#checking standard deviation in train dataset\n",
        "standard_deviation_train = df1_train.std()\n",
        "print(standard_deviation_train)"
      ],
      "metadata": {
        "colab": {
          "base_uri": "https://localhost:8080/"
        },
        "id": "jpU2bNgfD4lU",
        "outputId": "866e67c1-3719-4394-bd2b-30e328395ef9"
      },
      "execution_count": 45,
      "outputs": [
        {
          "output_type": "stream",
          "name": "stdout",
          "text": [
            "duration                        0.090240\n",
            "protocol_type                   0.426620\n",
            "service                        16.346470\n",
            "flag                            2.689365\n",
            "src_bytes                       0.178616\n",
            "dst_bytes                       0.197190\n",
            "land                            0.014086\n",
            "wrong_fragment                  0.171638\n",
            "urgent                          0.014366\n",
            "hot                             0.065906\n",
            "num_failed_logins               0.045239\n",
            "logged_in                       0.489010\n",
            "num_compromised                 0.015883\n",
            "root_shell                      0.036603\n",
            "su_attempted                    0.045154\n",
            "num_root                        0.015697\n",
            "num_file_creations              0.450387\n",
            "num_shells                      0.022181\n",
            "num_access_files                0.099370\n",
            "is_host_login                   0.002817\n",
            "is_guest_login                  0.096612\n",
            "count                           0.224087\n",
            "srv_count                       0.142600\n",
            "serror_rate                     0.446160\n",
            "srv_serror_rate                 0.447162\n",
            "rerror_rate                     0.319364\n",
            "srv_rerror_rate                 0.323521\n",
            "same_srv_rate                   0.439623\n",
            "diff_srv_rate                   0.181280\n",
            "srv_diff_host_rate              0.281364\n",
            "dst_host_count                  0.389044\n",
            "dst_host_srv_count              0.434128\n",
            "dst_host_same_srv_rate          0.448949\n",
            "dst_host_diff_srv_rate          0.188922\n",
            "dst_host_same_src_port_rate     0.308997\n",
            "dst_host_srv_diff_host_rate     0.136369\n",
            "dst_host_serror_rate            0.444784\n",
            "dst_host_srv_serror_rate        0.445724\n",
            "dst_host_rerror_rate            0.306557\n",
            "dst_host_srv_rerror_rate        0.319459\n",
            "labels                          0.694105\n",
            "dtype: float64\n"
          ]
        }
      ]
    },
    {
      "cell_type": "code",
      "source": [
        "# Select the columns to be normalized (assuming they are numerical features)\n",
        "numerical_columns = ['duration', 'src_bytes', 'dst_bytes', 'count', 'srv_count', 'serror_rate', 'srv_serror_rate', 'same_srv_rate',\n",
        "                     'dst_host_count', 'dst_host_srv_count', 'dst_host_same_srv_rate', 'dst_host_diff_srv_rate',\n",
        "                     'dst_host_same_src_port_rate','dst_host_serror_rate', 'dst_host_srv_serror_rate', 'rerror_rate',\n",
        "                     'srv_rerror_rate','diff_srv_rate', 'srv_diff_host_rate', 'dst_host_srv_diff_host_rate',\n",
        "                     'dst_host_rerror_rate', 'dst_host_srv_rerror_rate','hot','num_compromised','num_root',]\n",
        "\n",
        "# Initialize the MinMaxScaler\n",
        "scaler = MinMaxScaler()\n",
        "\n",
        "# Fit the scaler to the selected columns\n",
        "scaler.fit(df1_test[numerical_columns])\n",
        "\n",
        "# Transform the selected columns with the scaler\n",
        "df1_test[numerical_columns] = scaler.transform(df1_test[numerical_columns])"
      ],
      "metadata": {
        "id": "xpleooIgDShB"
      },
      "execution_count": 46,
      "outputs": []
    },
    {
      "cell_type": "code",
      "source": [
        "#checking standard deviation in test dataset\n",
        "standard_deviation_test = df1_test.std()\n",
        "print(standard_deviation_test)"
      ],
      "metadata": {
        "colab": {
          "base_uri": "https://localhost:8080/"
        },
        "id": "jaz8JQzrDf7f",
        "outputId": "967a5292-69e9-4693-abf1-78059a80060b"
      },
      "execution_count": 47,
      "outputs": [
        {
          "output_type": "stream",
          "name": "stdout",
          "text": [
            "duration                        0.104184\n",
            "protocol_type                   0.418765\n",
            "service                        15.093625\n",
            "flag                            2.865630\n",
            "src_bytes                       0.221839\n",
            "dst_bytes                       0.243081\n",
            "land                            0.009419\n",
            "wrong_fragment                  0.148155\n",
            "urgent                          0.016313\n",
            "hot                             0.060855\n",
            "num_failed_logins               0.104942\n",
            "logged_in                       0.491114\n",
            "num_compromised                 0.021864\n",
            "root_shell                      0.045126\n",
            "su_attempted                    0.045160\n",
            "num_root                        0.022816\n",
            "num_file_creations              0.206240\n",
            "num_shells                      0.031232\n",
            "num_access_files                0.085980\n",
            "is_host_login                   0.006660\n",
            "is_guest_login                  0.119922\n",
            "count                           0.243988\n",
            "srv_count                       0.163914\n",
            "serror_rate                     0.415511\n",
            "srv_serror_rate                 0.417142\n",
            "rerror_rate                     0.356641\n",
            "srv_rerror_rate                 0.358879\n",
            "same_srv_rate                   0.432735\n",
            "diff_srv_rate                   0.208028\n",
            "srv_diff_host_rate              0.262593\n",
            "dst_host_count                  0.383892\n",
            "dst_host_srv_count              0.439282\n",
            "dst_host_same_srv_rate          0.447079\n",
            "dst_host_diff_srv_rate          0.199813\n",
            "dst_host_same_src_port_rate     0.305538\n",
            "dst_host_srv_diff_host_rate     0.136378\n",
            "dst_host_serror_rate            0.410670\n",
            "dst_host_srv_serror_rate        0.412450\n",
            "dst_host_rerror_rate            0.339255\n",
            "dst_host_srv_rerror_rate        0.350511\n",
            "labels                          0.832770\n",
            "dtype: float64\n"
          ]
        }
      ]
    },
    {
      "cell_type": "code",
      "source": [
        "df1_train_with_correlation = df1_train.copy()\n",
        "\n",
        "# Calculate the correlation matrix\n",
        "corr_matrix = df1_train_with_correlation.corr().abs()\n",
        "\n",
        "# Set the correlation threshold\n",
        "correlation_threshold = 0.7\n",
        "\n",
        "# Create a set to store the correlated feature names\n",
        "correlated_features = set()\n",
        "\n",
        "# Iterate through the correlation matrix and find highly correlated feature pairs\n",
        "for i in range(len(corr_matrix.columns)):\n",
        "    for j in range(i):\n",
        "        if corr_matrix.iloc[i, j] >= correlation_threshold:\n",
        "            feature_i = corr_matrix.columns[i]\n",
        "            feature_j = corr_matrix.columns[j]\n",
        "            correlated_features.add(feature_i)\n",
        "            correlated_features.add(feature_j)\n",
        "\n",
        "# Remove the highly correlated features from the dataset\n",
        "df1_train_with_correlation.drop(correlated_features, axis=1, inplace=True)\n"
      ],
      "metadata": {
        "id": "1do-6XkPJIrq"
      },
      "execution_count": 48,
      "outputs": []
    },
    {
      "cell_type": "code",
      "source": [
        "df1_train_with_correlation.shape"
      ],
      "metadata": {
        "colab": {
          "base_uri": "https://localhost:8080/"
        },
        "id": "bAAmL4NJL4Ej",
        "outputId": "eea9b8f3-0658-46e0-eea3-52a6753e1064"
      },
      "execution_count": 49,
      "outputs": [
        {
          "output_type": "execute_result",
          "data": {
            "text/plain": [
              "(125973, 24)"
            ]
          },
          "metadata": {},
          "execution_count": 49
        }
      ]
    },
    {
      "cell_type": "code",
      "source": [
        "# Get the list of column names\n",
        "feature_names = df1_train_with_correlation.columns.tolist()\n",
        "\n",
        "# Print the list of feature names\n",
        "print(\"List of Features:\")\n",
        "for feature in feature_names:\n",
        "    print(feature)"
      ],
      "metadata": {
        "colab": {
          "base_uri": "https://localhost:8080/"
        },
        "id": "4AbvcLn0_Qa7",
        "outputId": "9ec631f2-2d08-48cc-ab9d-e0e063c57d46"
      },
      "execution_count": 53,
      "outputs": [
        {
          "output_type": "stream",
          "name": "stdout",
          "text": [
            "List of Features:\n",
            "duration\n",
            "protocol_type\n",
            "service\n",
            "src_bytes\n",
            "dst_bytes\n",
            "land\n",
            "wrong_fragment\n",
            "urgent\n",
            "num_failed_logins\n",
            "logged_in\n",
            "root_shell\n",
            "num_file_creations\n",
            "num_shells\n",
            "num_access_files\n",
            "is_host_login\n",
            "count\n",
            "srv_count\n",
            "diff_srv_rate\n",
            "srv_diff_host_rate\n",
            "dst_host_count\n",
            "dst_host_diff_srv_rate\n",
            "dst_host_same_src_port_rate\n",
            "dst_host_srv_diff_host_rate\n",
            "labels\n"
          ]
        }
      ]
    },
    {
      "cell_type": "code",
      "source": [
        "# Get the set of features for each dataset\n",
        "features_set1 = set(df1_train.columns)\n",
        "features_set2 = set(df1_train_with_correlation.columns)\n",
        "\n",
        "# Find the features present in df1_train but absent in df1_train_with_correlation\n",
        "features_only_in_df1_train = features_set1 - features_set2\n",
        "\n",
        "# Find the features present in df1_train_with_correlation but absent in df1_train\n",
        "features_only_in_df1_train_with_correlation = features_set2 - features_set1\n",
        "\n",
        "# Print the features present only in df1_train\n",
        "print(\"Features present only in df1_train:\")\n",
        "for feature in features_only_in_df1_train:\n",
        "    print(feature)\n",
        "\n",
        "# Print the features present only in df1_train_with_correlation\n",
        "print(\"Features present only in df1_train_with_correlation:\")\n",
        "for feature in features_only_in_df1_train_with_correlation:\n",
        "    print(feature)"
      ],
      "metadata": {
        "colab": {
          "base_uri": "https://localhost:8080/"
        },
        "id": "uZJeqZv8AY5E",
        "outputId": "d3814401-3db3-4008-96bb-8e6f82fdf8de"
      },
      "execution_count": 54,
      "outputs": [
        {
          "output_type": "stream",
          "name": "stdout",
          "text": [
            "Features present only in df1_train:\n",
            "same_srv_rate\n",
            "num_compromised\n",
            "hot\n",
            "dst_host_rerror_rate\n",
            "dst_host_srv_rerror_rate\n",
            "srv_serror_rate\n",
            "rerror_rate\n",
            "dst_host_srv_count\n",
            "flag\n",
            "num_root\n",
            "is_guest_login\n",
            "dst_host_same_srv_rate\n",
            "serror_rate\n",
            "dst_host_serror_rate\n",
            "dst_host_srv_serror_rate\n",
            "su_attempted\n",
            "srv_rerror_rate\n",
            "Features present only in df1_train_with_correlation:\n"
          ]
        }
      ]
    },
    {
      "cell_type": "code",
      "source": [
        "df1_test_with_correlation_copy = df1_test.copy()\n",
        "\n",
        "#drop the same correlated features from test set that were dropped from the train set\n",
        "df1_test_with_correlation = df1_test_with_correlation_copy.drop(features_only_in_df1_train, axis=1)\n",
        "\n",
        "# Get the set of features for each dataset\n",
        "features_set1 = set(df1_test.columns)\n",
        "features_set2 = set(df1_test_with_correlation.columns)\n",
        "\n",
        "# Find the features present in df1_train but absent in df1_train_with_correlation\n",
        "features_only_in_df1_test = features_set1 - features_set2\n",
        "\n",
        "# Find the features present in df1_train_with_correlation but absent in df1_train\n",
        "features_only_in_df1_test_with_correlation = features_set2 - features_set1\n",
        "\n",
        "# Print the features present only in df1_train\n",
        "print(\"Features present only in df1_test:\")\n",
        "for feature in features_only_in_df1_test:\n",
        "    print(feature)\n",
        "\n",
        "# Print the features present only in df1_train_with_correlation\n",
        "print(\"Features present only in df1_test_with_correlation:\")\n",
        "for feature in features_only_in_df1_test_with_correlation:\n",
        "    print(feature)"
      ],
      "metadata": {
        "colab": {
          "base_uri": "https://localhost:8080/"
        },
        "id": "haXDKZFMV2Sz",
        "outputId": "43bf74b1-bfe6-45cf-8859-18d231bd5c2b"
      },
      "execution_count": 57,
      "outputs": [
        {
          "output_type": "stream",
          "name": "stdout",
          "text": [
            "Features present only in df1_test:\n",
            "same_srv_rate\n",
            "num_compromised\n",
            "hot\n",
            "dst_host_rerror_rate\n",
            "dst_host_srv_rerror_rate\n",
            "srv_serror_rate\n",
            "rerror_rate\n",
            "dst_host_srv_count\n",
            "flag\n",
            "num_root\n",
            "is_guest_login\n",
            "dst_host_same_srv_rate\n",
            "serror_rate\n",
            "dst_host_serror_rate\n",
            "dst_host_srv_serror_rate\n",
            "su_attempted\n",
            "srv_rerror_rate\n",
            "Features present only in df1_test_with_correlation:\n"
          ]
        }
      ]
    },
    {
      "cell_type": "code",
      "source": [
        "df1_test_with_correlation.shape"
      ],
      "metadata": {
        "colab": {
          "base_uri": "https://localhost:8080/"
        },
        "id": "BDmNg8CsV_3H",
        "outputId": "e19e1b92-b7ec-4477-a41c-76222cc65285"
      },
      "execution_count": 58,
      "outputs": [
        {
          "output_type": "execute_result",
          "data": {
            "text/plain": [
              "(22544, 24)"
            ]
          },
          "metadata": {},
          "execution_count": 58
        }
      ]
    },
    {
      "cell_type": "code",
      "source": [
        "df1_train_with_correlation.shape"
      ],
      "metadata": {
        "colab": {
          "base_uri": "https://localhost:8080/"
        },
        "id": "wWaK2qZeEDGI",
        "outputId": "384f6944-4538-4453-93ee-e401d5a108b8"
      },
      "execution_count": 59,
      "outputs": [
        {
          "output_type": "execute_result",
          "data": {
            "text/plain": [
              "(125973, 24)"
            ]
          },
          "metadata": {},
          "execution_count": 59
        }
      ]
    },
    {
      "cell_type": "code",
      "source": [
        "#implementing decision tree model on datasets without correlation drop\n",
        "\n",
        "import time\n",
        "from sklearn.tree import DecisionTreeClassifier\n",
        "from sklearn.metrics import accuracy_score, precision_score, recall_score, mean_squared_error\n",
        "from sklearn.metrics import confusion_matrix\n",
        "import seaborn as sns\n",
        "\n",
        "\n",
        "# Separate the features and target variable\n",
        "X_train = df1_train.drop('labels', axis=1)  # Features\n",
        "y_train = df1_train['labels']  # Target variable\n",
        "\n",
        "# Separate the features and target variable\n",
        "X_test = df1_test.drop('labels', axis=1)  # Features\n",
        "y_test = df1_test['labels']  # Target variable\n",
        "\n",
        "\n",
        "start_time = time.time()\n",
        "\n",
        "# Create a decision tree classifier\n",
        "clf = DecisionTreeClassifier()\n",
        "\n",
        "# Train the decision tree classifier\n",
        "clf.fit(X_train, y_train)\n",
        "\n",
        "learning_time = time.time() - start_time\n",
        "\n",
        "\n",
        "\n",
        "start_time = time.time()\n",
        "\n",
        "# Make predictions on the test set\n",
        "y_pred = clf.predict(X_test)\n",
        "\n",
        "detection_time = time.time() - start_time\n",
        "\n",
        "\n",
        "# Calculate accuracy, precision, and recall\n",
        "accuracy = accuracy_score(y_test, y_pred)\n",
        "precision = precision_score(y_test, y_pred, average='macro')\n",
        "recall = recall_score(y_test, y_pred, average='macro')\n",
        "\n",
        "# Print the results\n",
        "print(\"Accuracy:\", accuracy)\n",
        "print(\"Precision:\", precision)\n",
        "print(\"Recall:\", recall)\n",
        "print(\"Learning Time:\", learning_time, \"seconds\")\n",
        "print(\"Detection Time:\", detection_time, \"seconds\")\n",
        "\n",
        "# Calculate the MSE\n",
        "mse = mean_squared_error(y_test, y_pred)\n",
        "print(\"Mean Squared Error:\", mse)\n",
        "\n",
        "# Compute the confusion matrix\n",
        "cm = confusion_matrix(y_test, y_pred)\n",
        "\n",
        "print(\"Confusion Matrix:\")\n",
        "print(cm)\n",
        "\n",
        "# Define the labels for the confusion matrix\n",
        "labels = ['Normal', 'DOS', 'Probe', 'R2L','U2R']\n",
        "\n",
        "# Create a heatmap of the confusion matrix\n",
        "sns.heatmap(cm, annot=True, cmap='Blues', fmt='d', xticklabels=labels, yticklabels=labels)\n",
        "\n",
        "# Set the axis labels and title\n",
        "plt.xlabel('Predicted')\n",
        "plt.ylabel('Actual')\n",
        "plt.title('Confusion Matrix')\n",
        "\n",
        "# Save the plot as an image file\n",
        "plt.savefig('confusion_matrix.png', dpi=300)\n",
        "\n",
        "# Display a message indicating the file has been saved\n",
        "print(\"Confusion matrix saved as confusion_matrix.png\")\n",
        "\n",
        "# Display the plot\n",
        "plt.show()"
      ],
      "metadata": {
        "colab": {
          "base_uri": "https://localhost:8080/",
          "height": 693
        },
        "id": "Lp73fCpdUB7V",
        "outputId": "53dc7dcb-7626-4611-db1c-e2843b44357d"
      },
      "execution_count": 65,
      "outputs": [
        {
          "output_type": "stream",
          "name": "stdout",
          "text": [
            "Accuracy: 0.9096433640880057\n",
            "Precision: 0.8324173074916527\n",
            "Recall: 0.6330118348836205\n",
            "Learning Time: 1.540470838546753 seconds\n",
            "Detection Time: 0.008858442306518555 seconds\n",
            "Mean Squared Error: 0.4878459900638751\n",
            "Confusion Matrix:\n",
            "[[11152    13    76     4     0]\n",
            " [  400  7526   144    21     4]\n",
            " [  388    66  1703     0     0]\n",
            " [  889     0     3   113     4]\n",
            " [   22     0     0     3    13]]\n",
            "Confusion matrix saved as confusion_matrix.png\n"
          ]
        },
        {
          "output_type": "display_data",
          "data": {
            "text/plain": [
              "<Figure size 640x480 with 2 Axes>"
            ],
            "image/png": "[encoded data removed]"
          },
          "metadata": {}
        }
      ]
    },
    {
      "cell_type": "code",
      "source": [
        "#implementing decision tree model on datasets with correlation drop\n",
        "\n",
        "import time\n",
        "from sklearn.tree import DecisionTreeClassifier\n",
        "from sklearn.metrics import accuracy_score, precision_score, recall_score\n",
        "from sklearn.metrics import confusion_matrix\n",
        "import seaborn as sns\n",
        "\n",
        "\n",
        "# Separate the features and target variable\n",
        "X_train_with_correlation = df1_train_with_correlation.drop('labels', axis=1)  # Features\n",
        "y_train_with_correlation = df1_train_with_correlation['labels']  # Target variable\n",
        "\n",
        "# Separate the features and target variable\n",
        "X_test_with_correlation = df1_test_with_correlation.drop('labels', axis=1)  # Features\n",
        "y_test_with_correlation = df1_test_with_correlation['labels']  # Target variable\n",
        "\n",
        "\n",
        "start_time = time.time()\n",
        "\n",
        "# Create a decision tree classifier\n",
        "clf = DecisionTreeClassifier()\n",
        "\n",
        "# Train the decision tree classifier\n",
        "clf.fit(X_train_with_correlation, y_train_with_correlation)\n",
        "\n",
        "learning_time = time.time() - start_time\n",
        "\n",
        "\n",
        "\n",
        "start_time = time.time()\n",
        "\n",
        "# Make predictions on the test set\n",
        "y_pred_with_correlation = clf.predict(X_test_with_correlation)\n",
        "\n",
        "detection_time = time.time() - start_time\n",
        "\n",
        "\n",
        "# Calculate accuracy, precision, and recall\n",
        "accuracy = accuracy_score(y_test_with_correlation, y_pred_with_correlation)\n",
        "precision = precision_score(y_test_with_correlation, y_pred_with_correlation, average='macro')\n",
        "recall = recall_score(y_test_with_correlation, y_pred_with_correlation, average='macro')\n",
        "\n",
        "# Print the results\n",
        "print(\"Accuracy:\", accuracy)\n",
        "print(\"Precision:\", precision)\n",
        "print(\"Recall:\", recall)\n",
        "print(\"Learning Time:\", learning_time, \"seconds\")\n",
        "print(\"Detection Time:\", detection_time, \"seconds\")\n",
        "\n",
        "# Calculate the MSE\n",
        "mse = mean_squared_error(y_test, y_pred)\n",
        "print(\"Mean Squared Error:\", mse)\n",
        "\n",
        "# Compute the confusion matrix\n",
        "cm = confusion_matrix(y_test_with_correlation, y_pred_with_correlation)\n",
        "\n",
        "print(\"Confusion Matrix:\")\n",
        "print(cm)\n",
        "\n",
        "# Define the labels for the confusion matrix\n",
        "labels = ['Normal', 'DOS', 'Probe', 'R2L','U2R']\n",
        "\n",
        "# Create a heatmap of the confusion matrix\n",
        "sns.heatmap(cm, annot=True, cmap='Blues', fmt='d', xticklabels=labels, yticklabels=labels)\n",
        "\n",
        "# Set the axis labels and title\n",
        "plt.xlabel('Predicted')\n",
        "plt.ylabel('Actual')\n",
        "plt.title('Confusion Matrix')\n",
        "\n",
        "# Save the plot as an image file\n",
        "plt.savefig('confusion_matrix_with_correlation.png', dpi=300)\n",
        "\n",
        "# Display a message indicating the file has been saved\n",
        "print(\"Confusion matrix saved as confusion_matrix.png\")\n",
        "\n",
        "# Display the plot\n",
        "plt.show()"
      ],
      "metadata": {
        "colab": {
          "base_uri": "https://localhost:8080/",
          "height": 693
        },
        "id": "PdMiU-TZI8sJ",
        "outputId": "649b47e2-89f8-4311-e4e6-158563e1b537"
      },
      "execution_count": 66,
      "outputs": [
        {
          "output_type": "stream",
          "name": "stdout",
          "text": [
            "Accuracy: 0.9025017743080199\n",
            "Precision: 0.8726361422590934\n",
            "Recall: 0.6236150730038283\n",
            "Learning Time: 1.6076500415802002 seconds\n",
            "Detection Time: 0.007466316223144531 seconds\n",
            "Mean Squared Error: 0.4878459900638751\n",
            "Confusion Matrix:\n",
            "[[11079    48   106    11     1]\n",
            " [  629  7401    47    18     0]\n",
            " [  305    75  1772     5     0]\n",
            " [  907     1    19    82     0]\n",
            " [   23     0     0     3    12]]\n",
            "Confusion matrix saved as confusion_matrix.png\n"
          ]
        },
        {
          "output_type": "display_data",
          "data": {
            "text/plain": [
              "<Figure size 640x480 with 2 Axes>"
            ],
            "image/png": "[encoded data removed]"
          },
          "metadata": {}
        }
      ]
    },
    {
      "cell_type": "code",
      "source": [
        "#implementing decision tree model on datasets with Recursive Feature Extraction\n",
        "\n",
        "from sklearn.feature_selection import RFE\n",
        "\n",
        "df2_train = df1_train.copy()\n",
        "df2_test = df1_test.copy()\n",
        "\n",
        "# Separate the features and target variable\n",
        "X_train = df2_train.drop('labels', axis=1)  # Features\n",
        "y_train = df2_train['labels']  # Target variable\n",
        "\n",
        "# Separate the features and target variable\n",
        "X_test = df2_test.drop('labels', axis=1)  # Features\n",
        "y_test = df2_test['labels']  # Target variable\n",
        "\n",
        "\n",
        "start_time = time.time()\n",
        "\n",
        "# Create a decision tree classifier\n",
        "clf = DecisionTreeClassifier()\n",
        "\n",
        "# Create the RFE object and specify the number of features to select\n",
        "rfe = RFE(estimator=clf, n_features_to_select=35)  # Adjust the number of features as needed\n",
        "\n",
        "rfe.fit(X_train, y_train)\n",
        "\n",
        "X_train_selected = rfe.transform(X_train)\n",
        "X_test_selected = rfe.transform(X_test)\n",
        "\n",
        "# Train the decision tree classifier on the selected features\n",
        "clf.fit(X_train_selected, y_train)\n",
        "\n",
        "learning_time = time.time() - start_time\n",
        "\n",
        "\n",
        "start_time = time.time()\n",
        "\n",
        "# Make predictions on the test set\n",
        "y_pred_with_rfe = clf.predict(X_test_selected)\n",
        "\n",
        "detection_time = time.time() - start_time\n",
        "\n",
        "\n",
        "# Calculate accuracy, precision, and recall\n",
        "accuracy = accuracy_score(y_test, y_pred_with_rfe)\n",
        "precision = precision_score(y_test, y_pred_with_rfe, average='macro')\n",
        "recall = recall_score(y_test, y_pred_with_rfe, average='macro')\n",
        "\n",
        "# Print the results\n",
        "print(\"Accuracy:\", accuracy)\n",
        "print(\"Precision:\", precision)\n",
        "print(\"Recall:\", recall)\n",
        "print(\"Learning Time:\", learning_time, \"seconds\")\n",
        "print(\"Detection Time:\", detection_time, \"seconds\")\n",
        "\n",
        "# Calculate the MSE\n",
        "mse = mean_squared_error(y_test, y_pred_with_rfe)\n",
        "print(\"Mean Squared Error:\", mse)\n",
        "\n",
        "# Compute the confusion matrix\n",
        "cm = confusion_matrix(y_test, y_pred_with_rfe)\n",
        "\n",
        "print(\"Confusion Matrix:\")\n",
        "print(cm)\n",
        "\n",
        "# Define the labels for the confusion matrix\n",
        "labels = ['Normal', 'DOS', 'Probe', 'R2L','U2R']\n",
        "\n",
        "# Create a heatmap of the confusion matrix\n",
        "sns.heatmap(cm, annot=True, cmap='Blues', fmt='d', xticklabels=labels, yticklabels=labels)\n",
        "\n",
        "# Set the axis labels and title\n",
        "plt.xlabel('Predicted')\n",
        "plt.ylabel('Actual')\n",
        "plt.title('Confusion Matrix')\n",
        "\n",
        "# Save the plot as an image file\n",
        "plt.savefig('confusion_matrix_with_rfe_35.png', dpi=300)\n",
        "\n",
        "# Display a message indicating the file has been saved\n",
        "print(\"Confusion matrix saved as confusion_matrix.png\")\n",
        "\n",
        "# Display the plot\n",
        "plt.show()\n"
      ],
      "metadata": {
        "colab": {
          "base_uri": "https://localhost:8080/",
          "height": 693
        },
        "id": "egjafe_NY3oZ",
        "outputId": "064cc4e6-56b1-4b22-9a66-982f280fbbc1"
      },
      "execution_count": 77,
      "outputs": [
        {
          "output_type": "stream",
          "name": "stdout",
          "text": [
            "Accuracy: 0.9116394606103619\n",
            "Precision: 0.8574367985385549\n",
            "Recall: 0.6256607317117979\n",
            "Learning Time: 8.708470821380615 seconds\n",
            "Detection Time: 0.0036394596099853516 seconds\n",
            "Mean Squared Error: 0.47955110007097235\n",
            "Confusion Matrix:\n",
            "[[11148    14    81     2     0]\n",
            " [  314  7554   210    17     0]\n",
            " [  364    71  1722     0     0]\n",
            " [  884     0     4   117     4]\n",
            " [   23     0     0     4    11]]\n",
            "Confusion matrix saved as confusion_matrix.png\n"
          ]
        },
        {
          "output_type": "display_data",
          "data": {
            "text/plain": [
              "<Figure size 640x480 with 2 Axes>"
            ],
            "image/png": "[encoded data removed]"
          },
          "metadata": {}
        }
      ]
    }
  ],
  "metadata": {
    "accelerator": "GPU",
    "colab": {
      "provenance": [],
      "authorship_tag": "ABX9TyOVuJNV677bJNQwz1s1KhcP",
      "include_colab_link": true
    },
    "kernelspec": {
      "display_name": "Python 3",
      "name": "python3"
    },
    "language_info": {
      "name": "python"
    }
  },
  "nbformat": 4,
  "nbformat_minor": 0
}