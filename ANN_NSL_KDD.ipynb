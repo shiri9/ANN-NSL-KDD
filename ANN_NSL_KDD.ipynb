{
  "cells": [
    {
      "cell_type": "markdown",
      "metadata": {
        "id": "view-in-github",
        "colab_type": "text"
      },
      "source": [
        "<a href=\"https://colab.research.google.com/github/shiri9/ANN-NSL-KDD/blob/main/ANN_NSL_KDD.ipynb\" target=\"_parent\"><img src=\"https://colab.research.google.com/assets/colab-badge.svg\" alt=\"Open In Colab\"/></a>"
      ]
    },
    {
      "cell_type": "code",
      "execution_count": null,
      "metadata": {
        "id": "3mTJe-UAByMW"
      },
      "outputs": [],
      "source": [
        "import pandas as pd\n",
        "import numpy as np\n",
        "import matplotlib.pyplot as plt\n",
        "from sklearn.preprocessing import LabelEncoder,OneHotEncoder"
      ]
    },
    {
      "cell_type": "code",
      "execution_count": null,
      "metadata": {
        "colab": {
          "base_uri": "https://localhost:8080/"
        },
        "id": "B0HgAVV3IpSj",
        "outputId": "46b8453c-a8f4-454a-cb19-7ca44f558fef"
      },
      "outputs": [
        {
          "output_type": "stream",
          "name": "stdout",
          "text": [
            "Drive already mounted at /content/drive; to attempt to forcibly remount, call drive.mount(\"/content/drive\", force_remount=True).\n"
          ]
        }
      ],
      "source": [
        "from google.colab import drive\n",
        "drive.mount('/content/drive')"
      ]
    },
    {
      "cell_type": "code",
      "execution_count": null,
      "metadata": {
        "id": "CIwB8mhNI5kQ"
      },
      "outputs": [],
      "source": [
        "#reading training csv file from google drive\n",
        "df_train = pd.read_csv('/content/drive/MyDrive/Colab Notebooks/kdd_train.csv')\n",
        "df_test = pd.read_csv('/content/drive/MyDrive/Colab Notebooks/kdd_test.csv')"
      ]
    },
    {
      "cell_type": "code",
      "execution_count": null,
      "metadata": {
        "colab": {
          "base_uri": "https://localhost:8080/"
        },
        "id": "Ak8hEIowKe5V",
        "outputId": "8a066c40-f7a3-474a-aeb5-bb1d3a0f4e4f"
      },
      "outputs": [
        {
          "output_type": "execute_result",
          "data": {
            "text/plain": [
              "(125973, 42)"
            ]
          },
          "metadata": {},
          "execution_count": 360
        }
      ],
      "source": [
        "#getting number of rows and columns\n",
        "df_train.shape"
      ]
    },
    {
      "cell_type": "code",
      "source": [
        "#getting number of rows and columns\n",
        "df_test.shape"
      ],
      "metadata": {
        "colab": {
          "base_uri": "https://localhost:8080/"
        },
        "id": "-HD2qQbvCYRn",
        "outputId": "d0e35a2a-3762-4472-ac9b-a079d1342d18"
      },
      "execution_count": null,
      "outputs": [
        {
          "output_type": "execute_result",
          "data": {
            "text/plain": [
              "(22544, 42)"
            ]
          },
          "metadata": {},
          "execution_count": 361
        }
      ]
    },
    {
      "cell_type": "code",
      "execution_count": null,
      "metadata": {
        "colab": {
          "base_uri": "https://localhost:8080/"
        },
        "id": "1y0xE8ryLzgY",
        "outputId": "b1ce9fbb-ee50-421c-a5f1-487db7d932ba"
      },
      "outputs": [
        {
          "output_type": "execute_result",
          "data": {
            "text/plain": [
              "labels\n",
              "back                 956\n",
              "buffer_overflow       30\n",
              "ftp_write              8\n",
              "guess_passwd          53\n",
              "imap                  11\n",
              "ipsweep             3599\n",
              "land                  18\n",
              "loadmodule             9\n",
              "multihop               7\n",
              "neptune            41214\n",
              "nmap                1493\n",
              "normal             67343\n",
              "perl                   3\n",
              "phf                    4\n",
              "pod                  201\n",
              "portsweep           2931\n",
              "rootkit               10\n",
              "satan               3633\n",
              "smurf               2646\n",
              "spy                    2\n",
              "teardrop             892\n",
              "warezclient          890\n",
              "warezmaster           20\n",
              "Name: labels, dtype: int64"
            ]
          },
          "metadata": {},
          "execution_count": 362
        }
      ],
      "source": [
        "#checking the number of output labels in the train dataset\n",
        "len(df_train.groupby('labels')['labels'].agg('count'))\n",
        "\n",
        "df_train.groupby('labels')['labels'].agg('count')"
      ]
    },
    {
      "cell_type": "code",
      "source": [
        "#checking the number of output labels in the test dataset\n",
        "len(df_test.groupby('labels')['labels'].agg('count'))\n",
        "\n",
        "df_test.groupby('labels')['labels'].agg('count')"
      ],
      "metadata": {
        "colab": {
          "base_uri": "https://localhost:8080/"
        },
        "id": "IdrT3ed6CpmO",
        "outputId": "4136d338-dedb-42b3-e49e-26094e5ca432"
      },
      "execution_count": null,
      "outputs": [
        {
          "output_type": "execute_result",
          "data": {
            "text/plain": [
              "labels\n",
              "apache2              228\n",
              "back                 227\n",
              "buffer_overflow       17\n",
              "ftp_write              2\n",
              "guess_passwd         411\n",
              "httptunnel            41\n",
              "imap                   2\n",
              "ipsweep              479\n",
              "land                   2\n",
              "loadmodule             4\n",
              "mailbomb              94\n",
              "mscan                310\n",
              "multihop               9\n",
              "named                  2\n",
              "neptune             6654\n",
              "nmap                 206\n",
              "normal             11245\n",
              "perl                   1\n",
              "phf                    1\n",
              "pod                   35\n",
              "portsweep            371\n",
              "processtable         211\n",
              "ps                     9\n",
              "rootkit                4\n",
              "saint                 93\n",
              "satan                698\n",
              "sendmail               8\n",
              "smurf                540\n",
              "snmpgetattack         43\n",
              "snmpguess             99\n",
              "teardrop             104\n",
              "warezclient          107\n",
              "warezmaster          279\n",
              "xlock                  4\n",
              "xsnoop                 1\n",
              "xterm                  3\n",
              "Name: labels, dtype: int64"
            ]
          },
          "metadata": {},
          "execution_count": 363
        }
      ]
    },
    {
      "cell_type": "code",
      "execution_count": null,
      "metadata": {
        "colab": {
          "base_uri": "https://localhost:8080/"
        },
        "id": "XXVtvWP9O_hC",
        "outputId": "8daef99c-52e5-41ea-b2da-5d38ba55ff05"
      },
      "outputs": [
        {
          "output_type": "execute_result",
          "data": {
            "text/plain": [
              "duration                       0\n",
              "protocol_type                  0\n",
              "service                        0\n",
              "flag                           0\n",
              "src_bytes                      0\n",
              "dst_bytes                      0\n",
              "land                           0\n",
              "wrong_fragment                 0\n",
              "urgent                         0\n",
              "hot                            0\n",
              "num_failed_logins              0\n",
              "logged_in                      0\n",
              "num_compromised                0\n",
              "root_shell                     0\n",
              "su_attempted                   0\n",
              "num_root                       0\n",
              "num_file_creations             0\n",
              "num_shells                     0\n",
              "num_access_files               0\n",
              "num_outbound_cmds              0\n",
              "is_host_login                  0\n",
              "is_guest_login                 0\n",
              "count                          0\n",
              "srv_count                      0\n",
              "serror_rate                    0\n",
              "srv_serror_rate                0\n",
              "rerror_rate                    0\n",
              "srv_rerror_rate                0\n",
              "same_srv_rate                  0\n",
              "diff_srv_rate                  0\n",
              "srv_diff_host_rate             0\n",
              "dst_host_count                 0\n",
              "dst_host_srv_count             0\n",
              "dst_host_same_srv_rate         0\n",
              "dst_host_diff_srv_rate         0\n",
              "dst_host_same_src_port_rate    0\n",
              "dst_host_srv_diff_host_rate    0\n",
              "dst_host_serror_rate           0\n",
              "dst_host_srv_serror_rate       0\n",
              "dst_host_rerror_rate           0\n",
              "dst_host_srv_rerror_rate       0\n",
              "labels                         0\n",
              "dtype: int64"
            ]
          },
          "metadata": {},
          "execution_count": 364
        }
      ],
      "source": [
        "#Pre-processing\n",
        "#step 1: Checking if there are any null values in the training dataset\n",
        "df_train.isnull().sum()"
      ]
    },
    {
      "cell_type": "code",
      "source": [
        "#Pre-processing\n",
        "#step 1: Checking if there are any null values in the test dataset\n",
        "df_test.isnull().sum()"
      ],
      "metadata": {
        "colab": {
          "base_uri": "https://localhost:8080/"
        },
        "id": "hKo9fFzOyAXT",
        "outputId": "cd65d798-9623-4771-a3f4-711125119528"
      },
      "execution_count": null,
      "outputs": [
        {
          "output_type": "execute_result",
          "data": {
            "text/plain": [
              "duration                       0\n",
              "protocol_type                  0\n",
              "service                        0\n",
              "flag                           0\n",
              "src_bytes                      0\n",
              "dst_bytes                      0\n",
              "land                           0\n",
              "wrong_fragment                 0\n",
              "urgent                         0\n",
              "hot                            0\n",
              "num_failed_logins              0\n",
              "logged_in                      0\n",
              "num_compromised                0\n",
              "root_shell                     0\n",
              "su_attempted                   0\n",
              "num_root                       0\n",
              "num_file_creations             0\n",
              "num_shells                     0\n",
              "num_access_files               0\n",
              "num_outbound_cmds              0\n",
              "is_host_login                  0\n",
              "is_guest_login                 0\n",
              "count                          0\n",
              "srv_count                      0\n",
              "serror_rate                    0\n",
              "srv_serror_rate                0\n",
              "rerror_rate                    0\n",
              "srv_rerror_rate                0\n",
              "same_srv_rate                  0\n",
              "diff_srv_rate                  0\n",
              "srv_diff_host_rate             0\n",
              "dst_host_count                 0\n",
              "dst_host_srv_count             0\n",
              "dst_host_same_srv_rate         0\n",
              "dst_host_diff_srv_rate         0\n",
              "dst_host_same_src_port_rate    0\n",
              "dst_host_srv_diff_host_rate    0\n",
              "dst_host_serror_rate           0\n",
              "dst_host_srv_serror_rate       0\n",
              "dst_host_rerror_rate           0\n",
              "dst_host_srv_rerror_rate       0\n",
              "labels                         0\n",
              "dtype: int64"
            ]
          },
          "metadata": {},
          "execution_count": 365
        }
      ]
    },
    {
      "cell_type": "code",
      "execution_count": null,
      "metadata": {
        "colab": {
          "base_uri": "https://localhost:8080/"
        },
        "id": "nYXwJzlrj2vM",
        "outputId": "3c7d3098-472f-4e97-ecf6-aae316714b65"
      },
      "outputs": [
        {
          "output_type": "execute_result",
          "data": {
            "text/plain": [
              "23"
            ]
          },
          "metadata": {},
          "execution_count": 366
        }
      ],
      "source": [
        "#creating a copy of training data frame \"df\"\n",
        "df1_train = df_train.copy()\n",
        "\n",
        "#checking the count of labels (output class) in the training dataset\n",
        "len(df1_train.labels.unique())"
      ]
    },
    {
      "cell_type": "code",
      "execution_count": null,
      "metadata": {
        "id": "_Z3asrYEuT7n"
      },
      "outputs": [],
      "source": [
        "#cleaning spaces before and after the output label\n",
        "#df1_train.labels = df1_train.labels.apply(lambda x: x.strip())\n",
        "#df1_train.shape"
      ]
    },
    {
      "cell_type": "code",
      "source": [
        "#creating a copy of test data frame \"df\"\n",
        "df1_test = df_test.copy()\n",
        "\n",
        "#checking the count of labels (output class) in the training dataset\n",
        "len(df1_test.labels.unique())"
      ],
      "metadata": {
        "colab": {
          "base_uri": "https://localhost:8080/"
        },
        "id": "ZgbazRLDy4jZ",
        "outputId": "aa5b62db-6207-42ea-9b9b-65822b67cdc8"
      },
      "execution_count": null,
      "outputs": [
        {
          "output_type": "execute_result",
          "data": {
            "text/plain": [
              "36"
            ]
          },
          "metadata": {},
          "execution_count": 368
        }
      ]
    },
    {
      "cell_type": "code",
      "source": [
        "df1_test_all_services = df1_test.copy()\n",
        "\n",
        "# the missing service categories in the test dataset\n",
        "missing_service_categories = ['service_http_8001', 'service_tftp_u', 'service_harvest', 'service_http_2784']\n",
        "\n",
        "# Create new rows for the missing service categories\n",
        "missing_data = []\n",
        "for category in missing_service_categories:\n",
        "    missing_data.append({'service': category, 'service_http_8001' : 0, 'service_tftp_u' : 0, 'service_harvest' : 0, 'service_http_2784' : 0})  # Replace 'feature1', 'feature2', ... with actual features and values\n",
        "\n",
        "# Append the new rows to the training dataset\n",
        "df1_test_all_services = df1_test_all_services.append(missing_data, ignore_index=True)\n",
        "\n",
        "\n",
        "len(df1_test_all_services['service'].unique())\n",
        "\n",
        "# Extract the unique services from the service feature\n",
        "unique_services = df1_test_all_services['service'].unique()\n",
        "\n",
        "# Print the complete list of services\n",
        "for service in unique_services:\n",
        "    print(service)"
      ],
      "metadata": {
        "colab": {
          "base_uri": "https://localhost:8080/"
        },
        "id": "EzXRI3a_BkJh",
        "outputId": "07d958fd-fa1b-44ea-be79-c1acf8db9f89"
      },
      "execution_count": null,
      "outputs": [
        {
          "output_type": "stream",
          "name": "stdout",
          "text": [
            "smtp\n",
            "domain_u\n",
            "other\n",
            "private\n",
            "http\n",
            "ecr_i\n",
            "mtp\n",
            "netstat\n",
            "http_443\n",
            "uucp_path\n",
            "eco_i\n",
            "imap4\n",
            "ldap\n",
            "Z39_50\n",
            "discard\n",
            "csnet_ns\n",
            "pop_3\n",
            "ftp_data\n",
            "klogin\n",
            "finger\n",
            "courier\n",
            "auth\n",
            "systat\n",
            "supdup\n",
            "telnet\n",
            "iso_tsap\n",
            "ssh\n",
            "ftp\n",
            "exec\n",
            "netbios_ssn\n",
            "whois\n",
            "netbios_ns\n",
            "domain\n",
            "urp_i\n",
            "uucp\n",
            "pop_2\n",
            "nntp\n",
            "kshell\n",
            "time\n",
            "ctf\n",
            "efs\n",
            "IRC\n",
            "nnsp\n",
            "sunrpc\n",
            "ntp_u\n",
            "bgp\n",
            "gopher\n",
            "hostnames\n",
            "daytime\n",
            "link\n",
            "sql_net\n",
            "echo\n",
            "X11\n",
            "netbios_dgm\n",
            "shell\n",
            "vmnet\n",
            "name\n",
            "remote_job\n",
            "login\n",
            "printer\n",
            "pm_dump\n",
            "rje\n",
            "red_i\n",
            "tim_i\n",
            "urh_i\n",
            "aol\n",
            "service_http_8001\n",
            "service_tftp_u\n",
            "service_harvest\n",
            "service_http_2784\n"
          ]
        },
        {
          "output_type": "stream",
          "name": "stderr",
          "text": [
            "<ipython-input-369-c4e747bb0429>:12: FutureWarning: The frame.append method is deprecated and will be removed from pandas in a future version. Use pandas.concat instead.\n",
            "  df1_test_all_services = df1_test_all_services.append(missing_data, ignore_index=True)\n"
          ]
        }
      ]
    },
    {
      "cell_type": "code",
      "source": [
        "#cleaning spaces before and after the output label\n",
        "#df1_test.labels = df1_test.labels.apply(lambda x: x.strip())\n",
        "#df1_test.shape\n",
        "\n",
        "#cleaning spaces before and after the output label\n",
        "#df1_test_all_services.labels = df1_test_all_services.labels.apply(lambda x: x.strip())\n",
        "#df1_test_all_services.shape"
      ],
      "metadata": {
        "id": "X3QFkWhgzNmb"
      },
      "execution_count": null,
      "outputs": []
    },
    {
      "cell_type": "code",
      "execution_count": null,
      "metadata": {
        "id": "z-TlrISPq0Eh"
      },
      "outputs": [],
      "source": [
        "#Encoding categories in 0-Normal, 1-DoS, 2-Probe, 3-R2L, 4-U2R\n",
        "df1_train_labels = df1_train['labels']\n",
        "df1_train_labels_in_numbers = df1_train_labels.replace({ 'normal' : 0, 'neptune' : 1,'land' : 1, 'back': 1, 'teardrop': 1, 'pod': 1, 'smurf' : 1,\n",
        "                                                     'ipsweep' : 2, 'nmap' : 2, 'portsweep' : 2, 'satan' : 2,\n",
        "                                                     'phf': 3, 'multihop': 3, 'warezclient': 3,'warezmaster': 3, 'spy': 3, 'ftp_write' : 3,\n",
        "                                                     'guess_passwd': 3,'imap': 3,\n",
        "                                                     'buffer_overflow': 4, 'loadmodule': 4,'perl': 4,  'rootkit': 4 })\n",
        "#replacing the string output clsses by numbers\n",
        "df1_train['labels'] = df1_train_labels_in_numbers"
      ]
    },
    {
      "cell_type": "code",
      "source": [
        "#Encoding categories in 0-Normal, 1-DoS, 2-Probe, 3-R2L, 4-U2R\n",
        "df1_test_labels = df1_test['labels']\n",
        "df1_test_labels_in_numbers = df1_test_labels.replace({ 'normal' : 0, 'neptune' : 1 ,'back': 1, 'land': 1, 'pod': 1, 'smurf': 1,\n",
        "                                                      'teardrop': 1,'mailbomb': 1, 'apache2': 1, 'processtable': 1,\n",
        "                                                     'ipsweep' : 2, 'nmap' : 2, 'portsweep' : 2, 'satan' : 2, 'mscan' : 2,'saint' : 2,\n",
        "                                                     'ftp_write': 3,'guess_passwd': 3,'imap': 3,'multihop': 3,'phf': 3, 'warezclient': 3,\n",
        "                                                       'warezmaster': 3,'sendmail': 3,'named': 3,'snmpgetattack': 3,'snmpguess': 3,'xlock': 3,\n",
        "                                                       'xsnoop': 3,'httptunnel': 3,\n",
        "                                                     'buffer_overflow': 4, 'loadmodule': 4,'perl': 4,  'rootkit': 4, 'ps': 4,'xterm': 4 })\n",
        "#replacing the string output clsses by numbers\n",
        "df1_test['labels'] = df1_test_labels_in_numbers\n"
      ],
      "metadata": {
        "id": "k_C0HtUU2L7A"
      },
      "execution_count": null,
      "outputs": []
    },
    {
      "cell_type": "code",
      "source": [
        "#Encoding categories in 0-Normal, 1-DoS, 2-Probe, 3-R2L, 4-U2R\n",
        "df1_test_all_services_labels = df1_test_all_services['labels']\n",
        "df1_test_all_services_labels_in_numbers = df1_test_all_services_labels.replace({ 'normal' : 0, 'neptune' : 1 ,'back': 1, 'land': 1, 'pod': 1, 'smurf': 1,\n",
        "                                                      'teardrop': 1,'mailbomb': 1, 'apache2': 1, 'processtable': 1,\n",
        "                                                     'ipsweep' : 2, 'nmap' : 2, 'portsweep' : 2, 'satan' : 2, 'mscan' : 2,'saint' : 2,\n",
        "                                                     'ftp_write': 3,'guess_passwd': 3,'imap': 3,'multihop': 3,'phf': 3, 'warezclient': 3,\n",
        "                                                       'warezmaster': 3,'sendmail': 3,'named': 3,'snmpgetattack': 3,'snmpguess': 3,'xlock': 3,\n",
        "                                                       'xsnoop': 3,'httptunnel': 3,\n",
        "                                                     'buffer_overflow': 4, 'loadmodule': 4,'perl': 4,  'rootkit': 4, 'ps': 4,'xterm': 4 })\n",
        "#replacing the string output clsses by numbers\n",
        "df1_test_all_services['labels'] = df1_test_all_services_labels_in_numbers"
      ],
      "metadata": {
        "id": "poZdl-yh_vom"
      },
      "execution_count": null,
      "outputs": []
    },
    {
      "cell_type": "code",
      "source": [
        "df1_test_all_services.shape"
      ],
      "metadata": {
        "colab": {
          "base_uri": "https://localhost:8080/"
        },
        "id": "dV8jmpa0KTt_",
        "outputId": "cd1f4279-a2b3-4b8a-d1b9-6c4e1d0475e9"
      },
      "execution_count": null,
      "outputs": [
        {
          "output_type": "execute_result",
          "data": {
            "text/plain": [
              "(22548, 46)"
            ]
          },
          "metadata": {},
          "execution_count": 374
        }
      ]
    },
    {
      "cell_type": "code",
      "execution_count": null,
      "metadata": {
        "colab": {
          "base_uri": "https://localhost:8080/"
        },
        "id": "bV-td1u63795",
        "outputId": "1c63cdaa-46f4-405c-aae4-97395d7a8182"
      },
      "outputs": [
        {
          "output_type": "execute_result",
          "data": {
            "text/plain": [
              "protocol_type\n",
              "icmp      8291\n",
              "tcp     102689\n",
              "udp      14993\n",
              "Name: protocol_type, dtype: int64"
            ]
          },
          "metadata": {},
          "execution_count": 375
        }
      ],
      "source": [
        "df1_train.groupby('protocol_type')['protocol_type'].agg('count')"
      ]
    },
    {
      "cell_type": "code",
      "source": [
        "df1_test.groupby('protocol_type')['protocol_type'].agg('count')"
      ],
      "metadata": {
        "colab": {
          "base_uri": "https://localhost:8080/"
        },
        "id": "qtfu8Wjc60qi",
        "outputId": "6cdc3ef4-d6dd-4753-fd64-3e3138c2f109"
      },
      "execution_count": null,
      "outputs": [
        {
          "output_type": "execute_result",
          "data": {
            "text/plain": [
              "protocol_type\n",
              "icmp     1335\n",
              "tcp     18508\n",
              "udp      2701\n",
              "Name: protocol_type, dtype: int64"
            ]
          },
          "metadata": {},
          "execution_count": 376
        }
      ]
    },
    {
      "cell_type": "code",
      "execution_count": null,
      "metadata": {
        "colab": {
          "base_uri": "https://localhost:8080/"
        },
        "id": "4ZxM9FvA4a68",
        "outputId": "0c550a9a-6d29-47e1-8039-234221284b77"
      },
      "outputs": [
        {
          "output_type": "execute_result",
          "data": {
            "text/plain": [
              "service\n",
              "IRC          187\n",
              "X11           73\n",
              "Z39_50       862\n",
              "aol            2\n",
              "auth         955\n",
              "            ... \n",
              "urp_i        602\n",
              "uucp         780\n",
              "uucp_path    689\n",
              "vmnet        617\n",
              "whois        693\n",
              "Name: service, Length: 70, dtype: int64"
            ]
          },
          "metadata": {},
          "execution_count": 377
        }
      ],
      "source": [
        "df1_train.groupby('service')['service'].agg('count')"
      ]
    },
    {
      "cell_type": "code",
      "source": [
        "df1_test.groupby('service')['service'].agg('count')"
      ],
      "metadata": {
        "colab": {
          "base_uri": "https://localhost:8080/"
        },
        "id": "DbSB9OzZ694o",
        "outputId": "829bd8a8-f8a7-41e5-8c8d-e14dea3a76c7"
      },
      "execution_count": null,
      "outputs": [
        {
          "output_type": "execute_result",
          "data": {
            "text/plain": [
              "service\n",
              "IRC           22\n",
              "X11           13\n",
              "Z39_50       120\n",
              "aol            1\n",
              "auth         140\n",
              "            ... \n",
              "urp_i         75\n",
              "uucp         119\n",
              "uucp_path    123\n",
              "vmnet         97\n",
              "whois        104\n",
              "Name: service, Length: 66, dtype: int64"
            ]
          },
          "metadata": {},
          "execution_count": 378
        }
      ]
    },
    {
      "cell_type": "code",
      "source": [
        "df1_test_all_services.groupby('service')['service'].agg('count')"
      ],
      "metadata": {
        "colab": {
          "base_uri": "https://localhost:8080/"
        },
        "id": "uX9nMCxQLHNj",
        "outputId": "54336e1e-f7e4-47d4-a575-11038f550739"
      },
      "execution_count": null,
      "outputs": [
        {
          "output_type": "execute_result",
          "data": {
            "text/plain": [
              "service\n",
              "IRC           22\n",
              "X11           13\n",
              "Z39_50       120\n",
              "aol            1\n",
              "auth         140\n",
              "            ... \n",
              "urp_i         75\n",
              "uucp         119\n",
              "uucp_path    123\n",
              "vmnet         97\n",
              "whois        104\n",
              "Name: service, Length: 70, dtype: int64"
            ]
          },
          "metadata": {},
          "execution_count": 379
        }
      ]
    },
    {
      "cell_type": "code",
      "execution_count": null,
      "metadata": {
        "colab": {
          "base_uri": "https://localhost:8080/"
        },
        "id": "CG3tY_Ra4nlc",
        "outputId": "acf8702c-0001-481d-af35-eb472dae63a4"
      },
      "outputs": [
        {
          "output_type": "execute_result",
          "data": {
            "text/plain": [
              "flag\n",
              "OTH          46\n",
              "REJ       11233\n",
              "RSTO       1562\n",
              "RSTOS0      103\n",
              "RSTR       2421\n",
              "S0        34851\n",
              "S1          365\n",
              "S2          127\n",
              "S3           49\n",
              "SF        74945\n",
              "SH          271\n",
              "Name: flag, dtype: int64"
            ]
          },
          "metadata": {},
          "execution_count": 380
        }
      ],
      "source": [
        "df1_train.groupby('flag')['flag'].agg('count')"
      ]
    },
    {
      "cell_type": "code",
      "source": [
        "df1_test.groupby('flag')['flag'].agg('count')"
      ],
      "metadata": {
        "colab": {
          "base_uri": "https://localhost:8080/"
        },
        "id": "ydryP58P7T2v",
        "outputId": "bf71e3e7-a3b7-48e5-ff91-e6cf7c25fd57"
      },
      "execution_count": null,
      "outputs": [
        {
          "output_type": "execute_result",
          "data": {
            "text/plain": [
              "flag\n",
              "OTH           4\n",
              "REJ        2596\n",
              "RSTO        447\n",
              "RSTOS0       12\n",
              "RSTR        489\n",
              "S0         4993\n",
              "S1           46\n",
              "S2           20\n",
              "S3           79\n",
              "SF        13803\n",
              "SH           55\n",
              "Name: flag, dtype: int64"
            ]
          },
          "metadata": {},
          "execution_count": 381
        }
      ]
    },
    {
      "cell_type": "code",
      "execution_count": null,
      "metadata": {
        "id": "CuSMZ-JEZ0rt"
      },
      "outputs": [],
      "source": [
        "#Transform categorical features into numbers using LabelEncoder() from train dataset\n",
        "df1_train = df1_train.apply(LabelEncoder().fit_transform)\n",
        "dftrain = df1_train\n",
        "\n",
        "#Transform categorical features into numbers using LabelEncoder() from test dataset\n",
        "df1_test = df1_test.apply(LabelEncoder().fit_transform)\n",
        "dftest = df1_test\n",
        "\n",
        "#Transform categorical features into numbers using LabelEncoder() from test dataset\n",
        "df1_test_all_services = df1_test_all_services.apply(LabelEncoder().fit_transform)\n",
        "dftest_all_services = df1_test_all_services"
      ]
    },
    {
      "cell_type": "code",
      "execution_count": null,
      "metadata": {
        "colab": {
          "base_uri": "https://localhost:8080/"
        },
        "id": "VOBhYZLXjWuL",
        "outputId": "de381e40-5ab7-4a20-e0ba-9b18baee63ae"
      },
      "outputs": [
        {
          "output_type": "execute_result",
          "data": {
            "text/plain": [
              "Index(['num_outbound_cmds'], dtype='object')"
            ]
          },
          "metadata": {},
          "execution_count": 383
        }
      ],
      "source": [
        "#checking columns with no values other than ZERO\n",
        "zero_columns_train_set = df1_train.columns[(df1_train == 0).all()]\n",
        "zero_columns_train_set"
      ]
    },
    {
      "cell_type": "code",
      "source": [
        "#checking columns with no values other than ZERO\n",
        "zero_columns_test_set = df1_train.columns[(df1_train == 0).all()]\n",
        "zero_columns_test_set"
      ],
      "metadata": {
        "colab": {
          "base_uri": "https://localhost:8080/"
        },
        "id": "MmMeqzlz8qHJ",
        "outputId": "60d8e39e-c40f-4aac-8e91-426516e8640f"
      },
      "execution_count": null,
      "outputs": [
        {
          "output_type": "execute_result",
          "data": {
            "text/plain": [
              "Index(['num_outbound_cmds'], dtype='object')"
            ]
          },
          "metadata": {},
          "execution_count": 384
        }
      ]
    },
    {
      "cell_type": "code",
      "execution_count": null,
      "metadata": {
        "id": "o0ia1kfMuk94"
      },
      "outputs": [],
      "source": [
        "# Dropping the column \"num_outbound_cmds\" from train and test datasets\n",
        "df1_train = df1_train.drop('num_outbound_cmds', axis=1)\n",
        "df1_test = df1_test.drop('num_outbound_cmds', axis=1)\n",
        "df1_test_all_services = df1_test_all_services.drop('num_outbound_cmds', axis=1)"
      ]
    },
    {
      "cell_type": "code",
      "execution_count": null,
      "metadata": {
        "colab": {
          "base_uri": "https://localhost:8080/"
        },
        "id": "7mqFQkpSvr_V",
        "outputId": "cf71e874-8294-4034-e32d-8d77723744b4"
      },
      "outputs": [
        {
          "output_type": "stream",
          "name": "stdout",
          "text": [
            "duration                        268.914319\n",
            "protocol_type                     0.426620\n",
            "service                          16.346470\n",
            "flag                              2.689365\n",
            "src_bytes                       596.576429\n",
            "dst_bytes                      1838.795514\n",
            "land                              0.014086\n",
            "wrong_fragment                    0.171638\n",
            "urgent                            0.014366\n",
            "hot                               1.779471\n",
            "num_failed_logins                 0.045239\n",
            "logged_in                         0.489010\n",
            "num_compromised                   1.381835\n",
            "root_shell                        0.036603\n",
            "su_attempted                      0.045154\n",
            "num_root                          1.271473\n",
            "num_file_creations                0.450387\n",
            "num_shells                        0.022181\n",
            "num_access_files                  0.099370\n",
            "is_host_login                     0.002817\n",
            "is_guest_login                    0.096612\n",
            "count                           114.508607\n",
            "srv_count                        72.440598\n",
            "serror_rate                      39.262120\n",
            "srv_serror_rate                  38.008767\n",
            "rerror_rate                      25.868457\n",
            "srv_rerror_rate                  19.734811\n",
            "same_srv_rate                    43.962286\n",
            "diff_srv_rate                    17.040330\n",
            "srv_diff_host_rate               16.600484\n",
            "dst_host_count                   99.206213\n",
            "dst_host_srv_count              110.702741\n",
            "dst_host_same_srv_rate           44.894936\n",
            "dst_host_diff_srv_rate           18.892180\n",
            "dst_host_same_src_port_rate      30.899713\n",
            "dst_host_srv_diff_host_rate      10.091270\n",
            "dst_host_serror_rate             44.478405\n",
            "dst_host_srv_serror_rate         44.126713\n",
            "dst_host_rerror_rate             30.655746\n",
            "dst_host_srv_rerror_rate         31.945939\n",
            "labels                            0.694105\n",
            "dtype: float64\n"
          ]
        }
      ],
      "source": [
        "#checking standard deviation in train dataset\n",
        "standard_deviation_train = df1_train.std()\n",
        "print(standard_deviation_train)"
      ]
    },
    {
      "cell_type": "code",
      "source": [
        "#checking standard deviation in test dataset\n",
        "standard_deviation_test = df1_test.std()\n",
        "print(standard_deviation_test)"
      ],
      "metadata": {
        "colab": {
          "base_uri": "https://localhost:8080/"
        },
        "id": "kGI3sTwb9JPB",
        "outputId": "0c64796e-19e3-4d7b-952b-a66f1e58b93e"
      },
      "execution_count": null,
      "outputs": [
        {
          "output_type": "stream",
          "name": "stdout",
          "text": [
            "duration                        73.241592\n",
            "protocol_type                    0.418765\n",
            "service                         15.093625\n",
            "flag                             2.865630\n",
            "src_bytes                      336.307726\n",
            "dst_bytes                      910.095804\n",
            "land                             0.009419\n",
            "wrong_fragment                   0.148155\n",
            "urgent                           0.016313\n",
            "hot                              1.034537\n",
            "num_failed_logins                0.104942\n",
            "logged_in                        0.491114\n",
            "num_compromised                  0.612202\n",
            "root_shell                       0.045126\n",
            "su_attempted                     0.045160\n",
            "num_root                         0.593210\n",
            "num_file_creations               0.206240\n",
            "num_shells                       0.031232\n",
            "num_access_files                 0.085980\n",
            "is_host_login                    0.006660\n",
            "is_guest_login                   0.119922\n",
            "count                          115.894433\n",
            "srv_count                       69.991317\n",
            "serror_rate                     34.902953\n",
            "srv_serror_rate                 27.114212\n",
            "rerror_rate                     29.957807\n",
            "srv_rerror_rate                 28.351440\n",
            "same_srv_rate                   41.542578\n",
            "diff_srv_rate                   18.930510\n",
            "srv_diff_host_rate              18.906706\n",
            "dst_host_count                  97.508604\n",
            "dst_host_srv_count             111.577695\n",
            "dst_host_same_srv_rate          44.707852\n",
            "dst_host_diff_srv_rate          19.981320\n",
            "dst_host_same_src_port_rate     30.553805\n",
            "dst_host_srv_diff_host_rate      8.046297\n",
            "dst_host_serror_rate            40.656327\n",
            "dst_host_srv_serror_rate        40.832531\n",
            "dst_host_rerror_rate            33.925540\n",
            "dst_host_srv_rerror_rate        35.051132\n",
            "labels                           0.832770\n",
            "dtype: float64\n"
          ]
        }
      ]
    },
    {
      "cell_type": "code",
      "source": [
        "from sklearn.preprocessing import MinMaxScaler\n",
        "\n",
        "# Select the columns to be normalized (assuming they are numerical features)\n",
        "numerical_columns = ['duration', 'src_bytes', 'dst_bytes', 'count', 'srv_count', 'serror_rate', 'srv_serror_rate', 'same_srv_rate',\n",
        "                     'dst_host_count', 'dst_host_srv_count', 'dst_host_same_srv_rate', 'dst_host_diff_srv_rate',\n",
        "                     'dst_host_same_src_port_rate','dst_host_serror_rate', 'dst_host_srv_serror_rate', 'rerror_rate',\n",
        "                     'srv_rerror_rate','diff_srv_rate', 'srv_diff_host_rate', 'dst_host_srv_diff_host_rate',\n",
        "                     'dst_host_rerror_rate', 'dst_host_srv_rerror_rate','hot','num_compromised','num_root',]\n",
        "\n",
        "# Initialize the MinMaxScaler\n",
        "scaler = MinMaxScaler()\n",
        "\n",
        "# Fit the scaler to the selected columns\n",
        "scaler.fit(df1_train[numerical_columns])\n",
        "\n",
        "# Transform the selected columns with the scaler\n",
        "df1_train[numerical_columns] = scaler.transform(df1_train[numerical_columns])"
      ],
      "metadata": {
        "id": "kW6_kdXL9rD5"
      },
      "execution_count": null,
      "outputs": []
    },
    {
      "cell_type": "code",
      "source": [
        "#checking standard deviation in train dataset\n",
        "standard_deviation_train = df1_train.std()\n",
        "print(standard_deviation_train)"
      ],
      "metadata": {
        "colab": {
          "base_uri": "https://localhost:8080/"
        },
        "id": "jpU2bNgfD4lU",
        "outputId": "5d09bea2-fb04-4282-f8f6-2396c2162e22"
      },
      "execution_count": null,
      "outputs": [
        {
          "output_type": "stream",
          "name": "stdout",
          "text": [
            "duration                        0.090240\n",
            "protocol_type                   0.426620\n",
            "service                        16.346470\n",
            "flag                            2.689365\n",
            "src_bytes                       0.178616\n",
            "dst_bytes                       0.197190\n",
            "land                            0.014086\n",
            "wrong_fragment                  0.171638\n",
            "urgent                          0.014366\n",
            "hot                             0.065906\n",
            "num_failed_logins               0.045239\n",
            "logged_in                       0.489010\n",
            "num_compromised                 0.015883\n",
            "root_shell                      0.036603\n",
            "su_attempted                    0.045154\n",
            "num_root                        0.015697\n",
            "num_file_creations              0.450387\n",
            "num_shells                      0.022181\n",
            "num_access_files                0.099370\n",
            "is_host_login                   0.002817\n",
            "is_guest_login                  0.096612\n",
            "count                           0.224087\n",
            "srv_count                       0.142600\n",
            "serror_rate                     0.446160\n",
            "srv_serror_rate                 0.447162\n",
            "rerror_rate                     0.319364\n",
            "srv_rerror_rate                 0.323521\n",
            "same_srv_rate                   0.439623\n",
            "diff_srv_rate                   0.181280\n",
            "srv_diff_host_rate              0.281364\n",
            "dst_host_count                  0.389044\n",
            "dst_host_srv_count              0.434128\n",
            "dst_host_same_srv_rate          0.448949\n",
            "dst_host_diff_srv_rate          0.188922\n",
            "dst_host_same_src_port_rate     0.308997\n",
            "dst_host_srv_diff_host_rate     0.136369\n",
            "dst_host_serror_rate            0.444784\n",
            "dst_host_srv_serror_rate        0.445724\n",
            "dst_host_rerror_rate            0.306557\n",
            "dst_host_srv_rerror_rate        0.319459\n",
            "labels                          0.694105\n",
            "dtype: float64\n"
          ]
        }
      ]
    },
    {
      "cell_type": "code",
      "source": [
        "# Select the columns to be normalized (assuming they are numerical features)\n",
        "numerical_columns = ['duration', 'src_bytes', 'dst_bytes', 'count', 'srv_count', 'serror_rate', 'srv_serror_rate', 'same_srv_rate',\n",
        "                     'dst_host_count', 'dst_host_srv_count', 'dst_host_same_srv_rate', 'dst_host_diff_srv_rate',\n",
        "                     'dst_host_same_src_port_rate','dst_host_serror_rate', 'dst_host_srv_serror_rate', 'rerror_rate',\n",
        "                     'srv_rerror_rate','diff_srv_rate', 'srv_diff_host_rate', 'dst_host_srv_diff_host_rate',\n",
        "                     'dst_host_rerror_rate', 'dst_host_srv_rerror_rate','hot','num_compromised','num_root',]\n",
        "\n",
        "# Initialize the MinMaxScaler\n",
        "scaler = MinMaxScaler()\n",
        "\n",
        "# Fit the scaler to the selected columns\n",
        "scaler.fit(df1_test[numerical_columns])\n",
        "\n",
        "# Transform the selected columns with the scaler\n",
        "df1_test[numerical_columns] = scaler.transform(df1_test[numerical_columns])"
      ],
      "metadata": {
        "id": "xpleooIgDShB"
      },
      "execution_count": null,
      "outputs": []
    },
    {
      "cell_type": "code",
      "source": [
        "#checking standard deviation in test dataset\n",
        "standard_deviation_test = df1_test.std()\n",
        "print(standard_deviation_test)"
      ],
      "metadata": {
        "colab": {
          "base_uri": "https://localhost:8080/"
        },
        "id": "jaz8JQzrDf7f",
        "outputId": "6fb51c06-6b4e-42ee-f8f8-16ce4c769b9b"
      },
      "execution_count": null,
      "outputs": [
        {
          "output_type": "stream",
          "name": "stdout",
          "text": [
            "duration                        0.104184\n",
            "protocol_type                   0.418765\n",
            "service                        15.093625\n",
            "flag                            2.865630\n",
            "src_bytes                       0.221839\n",
            "dst_bytes                       0.243081\n",
            "land                            0.009419\n",
            "wrong_fragment                  0.148155\n",
            "urgent                          0.016313\n",
            "hot                             0.060855\n",
            "num_failed_logins               0.104942\n",
            "logged_in                       0.491114\n",
            "num_compromised                 0.021864\n",
            "root_shell                      0.045126\n",
            "su_attempted                    0.045160\n",
            "num_root                        0.022816\n",
            "num_file_creations              0.206240\n",
            "num_shells                      0.031232\n",
            "num_access_files                0.085980\n",
            "is_host_login                   0.006660\n",
            "is_guest_login                  0.119922\n",
            "count                           0.243988\n",
            "srv_count                       0.163914\n",
            "serror_rate                     0.415511\n",
            "srv_serror_rate                 0.417142\n",
            "rerror_rate                     0.356641\n",
            "srv_rerror_rate                 0.358879\n",
            "same_srv_rate                   0.432735\n",
            "diff_srv_rate                   0.208028\n",
            "srv_diff_host_rate              0.262593\n",
            "dst_host_count                  0.383892\n",
            "dst_host_srv_count              0.439282\n",
            "dst_host_same_srv_rate          0.447079\n",
            "dst_host_diff_srv_rate          0.199813\n",
            "dst_host_same_src_port_rate     0.305538\n",
            "dst_host_srv_diff_host_rate     0.136378\n",
            "dst_host_serror_rate            0.410670\n",
            "dst_host_srv_serror_rate        0.412450\n",
            "dst_host_rerror_rate            0.339255\n",
            "dst_host_srv_rerror_rate        0.350511\n",
            "labels                          0.832770\n",
            "dtype: float64\n"
          ]
        }
      ]
    },
    {
      "cell_type": "code",
      "source": [
        "#checking standard deviation in test dataset\n",
        "standard_deviation_test_all_services = df1_test_all_services.std()\n",
        "print(standard_deviation_test_all_services)"
      ],
      "metadata": {
        "colab": {
          "base_uri": "https://localhost:8080/"
        },
        "id": "FIQDHys6D2OD",
        "outputId": "55c9695d-d744-4fb6-a38d-dbd210efe8f8"
      },
      "execution_count": null,
      "outputs": [
        {
          "output_type": "stream",
          "name": "stdout",
          "text": [
            "duration                        73.810403\n",
            "protocol_type                    0.419524\n",
            "service                         15.992109\n",
            "flag                             2.865888\n",
            "src_bytes                      336.732328\n",
            "dst_bytes                      911.038089\n",
            "land                             0.028251\n",
            "wrong_fragment                   0.153394\n",
            "urgent                           0.043154\n",
            "hot                              1.061523\n",
            "num_failed_logins                0.131824\n",
            "logged_in                        0.491529\n",
            "num_compromised                  0.723571\n",
            "root_shell                       0.052384\n",
            "su_attempted                     0.060285\n",
            "num_root                         0.693454\n",
            "num_file_creations               0.277953\n",
            "num_shells                       0.050704\n",
            "num_access_files                 0.126778\n",
            "is_host_login                    0.027456\n",
            "is_guest_login                   0.122792\n",
            "count                          116.002530\n",
            "srv_count                       70.188063\n",
            "serror_rate                     34.910783\n",
            "srv_serror_rate                 27.120300\n",
            "rerror_rate                     29.970416\n",
            "srv_rerror_rate                 28.363226\n",
            "same_srv_rate                   41.541001\n",
            "diff_srv_rate                   18.962810\n",
            "srv_diff_host_rate              18.925170\n",
            "dst_host_count                  97.504300\n",
            "dst_host_srv_count             111.581831\n",
            "dst_host_same_srv_rate          44.708165\n",
            "dst_host_diff_srv_rate          20.017500\n",
            "dst_host_same_src_port_rate     30.573003\n",
            "dst_host_srv_diff_host_rate      8.081983\n",
            "dst_host_serror_rate            40.665749\n",
            "dst_host_srv_serror_rate        40.842008\n",
            "dst_host_rerror_rate            33.941637\n",
            "dst_host_srv_rerror_rate        35.066578\n",
            "labels                           0.834671\n",
            "service_http_8001                0.013318\n",
            "service_tftp_u                   0.013318\n",
            "service_harvest                  0.013318\n",
            "service_http_2784                0.013318\n",
            "dtype: float64\n"
          ]
        }
      ]
    },
    {
      "cell_type": "code",
      "source": [
        "# Select the columns to be normalized (assuming they are numerical features)\n",
        "numerical_columns = ['duration', 'src_bytes', 'dst_bytes', 'count', 'srv_count', 'serror_rate', 'srv_serror_rate', 'same_srv_rate',\n",
        "                     'dst_host_count', 'dst_host_srv_count', 'dst_host_same_srv_rate', 'dst_host_diff_srv_rate',\n",
        "                     'dst_host_same_src_port_rate','dst_host_serror_rate', 'dst_host_srv_serror_rate', 'rerror_rate',\n",
        "                     'srv_rerror_rate','diff_srv_rate', 'srv_diff_host_rate', 'dst_host_srv_diff_host_rate',\n",
        "                     'dst_host_rerror_rate', 'dst_host_srv_rerror_rate','hot','num_compromised','num_root',]\n",
        "\n",
        "# Initialize the MinMaxScaler\n",
        "scaler = MinMaxScaler()\n",
        "\n",
        "# Fit the scaler to the selected columns\n",
        "scaler.fit(df1_test_all_services[numerical_columns])\n",
        "\n",
        "# Transform the selected columns with the scaler\n",
        "df1_test_all_services[numerical_columns] = scaler.transform(df1_test_all_services[numerical_columns])"
      ],
      "metadata": {
        "id": "Mjb3j8xjEE2R"
      },
      "execution_count": null,
      "outputs": []
    },
    {
      "cell_type": "code",
      "source": [
        "#checking standard deviation in test dataset\n",
        "standard_deviation_test_all_services = df1_test_all_services.std()\n",
        "print(standard_deviation_test_all_services)"
      ],
      "metadata": {
        "colab": {
          "base_uri": "https://localhost:8080/"
        },
        "id": "gyrWj1cdES7c",
        "outputId": "a925b845-c8cd-498b-d27c-06b119844cb1"
      },
      "execution_count": null,
      "outputs": [
        {
          "output_type": "stream",
          "name": "stdout",
          "text": [
            "duration                        0.104844\n",
            "protocol_type                   0.419524\n",
            "service                        15.992109\n",
            "flag                            2.865888\n",
            "src_bytes                       0.221973\n",
            "dst_bytes                       0.243268\n",
            "land                            0.028251\n",
            "wrong_fragment                  0.153394\n",
            "urgent                          0.043154\n",
            "hot                             0.058973\n",
            "num_failed_logins               0.131824\n",
            "logged_in                       0.491529\n",
            "num_compromised                 0.024951\n",
            "root_shell                      0.052384\n",
            "su_attempted                    0.060285\n",
            "num_root                        0.025683\n",
            "num_file_creations              0.277953\n",
            "num_shells                      0.050704\n",
            "num_access_files                0.126778\n",
            "is_host_login                   0.027456\n",
            "is_guest_login                  0.122792\n",
            "count                           0.243703\n",
            "srv_count                       0.163991\n",
            "serror_rate                     0.410715\n",
            "srv_serror_rate                 0.410914\n",
            "rerror_rate                     0.352593\n",
            "srv_rerror_rate                 0.354540\n",
            "same_srv_rate                   0.428258\n",
            "diff_srv_rate                   0.206117\n",
            "srv_diff_host_rate              0.259249\n",
            "dst_host_count                  0.382370\n",
            "dst_host_srv_count              0.437576\n",
            "dst_host_same_srv_rate          0.442655\n",
            "dst_host_diff_srv_rate          0.198193\n",
            "dst_host_same_src_port_rate     0.302703\n",
            "dst_host_srv_diff_host_rate     0.134700\n",
            "dst_host_serror_rate            0.406657\n",
            "dst_host_srv_serror_rate        0.408420\n",
            "dst_host_rerror_rate            0.336056\n",
            "dst_host_srv_rerror_rate        0.347194\n",
            "labels                          0.834671\n",
            "service_http_8001               0.013318\n",
            "service_tftp_u                  0.013318\n",
            "service_harvest                 0.013318\n",
            "service_http_2784               0.013318\n",
            "dtype: float64\n"
          ]
        }
      ]
    },
    {
      "cell_type": "code",
      "source": [
        "df1_train_with_correlation = df1_train.copy()\n",
        "\n",
        "# Calculate the correlation matrix\n",
        "corr_matrix = df1_train_with_correlation.corr().abs()\n",
        "\n",
        "# Set the correlation threshold\n",
        "correlation_threshold = 0.7\n",
        "\n",
        "# Create a set to store the correlated feature names\n",
        "correlated_features = set()\n",
        "\n",
        "# Iterate through the correlation matrix and find highly correlated feature pairs\n",
        "for i in range(len(corr_matrix.columns)):\n",
        "    for j in range(i):\n",
        "        if corr_matrix.iloc[i, j] >= correlation_threshold:\n",
        "            feature_i = corr_matrix.columns[i]\n",
        "            feature_j = corr_matrix.columns[j]\n",
        "            correlated_features.add(feature_i)\n",
        "            correlated_features.add(feature_j)\n",
        "\n",
        "# Remove the highly correlated features from the dataset\n",
        "df1_train_with_correlation.drop(correlated_features, axis=1, inplace=True)\n"
      ],
      "metadata": {
        "id": "1do-6XkPJIrq"
      },
      "execution_count": null,
      "outputs": []
    },
    {
      "cell_type": "code",
      "source": [
        "df1_train_with_correlation.shape"
      ],
      "metadata": {
        "colab": {
          "base_uri": "https://localhost:8080/"
        },
        "id": "bAAmL4NJL4Ej",
        "outputId": "c94ed354-9b87-4131-a37c-9371c956eaea"
      },
      "execution_count": null,
      "outputs": [
        {
          "output_type": "execute_result",
          "data": {
            "text/plain": [
              "(125973, 24)"
            ]
          },
          "metadata": {},
          "execution_count": 396
        }
      ]
    },
    {
      "cell_type": "code",
      "source": [
        "# Get the list of column names\n",
        "feature_names = df1_train_with_correlation.columns.tolist()\n",
        "\n",
        "# Print the list of feature names\n",
        "print(\"List of Features:\")\n",
        "for feature in feature_names:\n",
        "    print(feature)"
      ],
      "metadata": {
        "colab": {
          "base_uri": "https://localhost:8080/"
        },
        "id": "4AbvcLn0_Qa7",
        "outputId": "3969e490-1c5d-4cda-bd2b-d6b35654e5c3"
      },
      "execution_count": null,
      "outputs": [
        {
          "output_type": "stream",
          "name": "stdout",
          "text": [
            "List of Features:\n",
            "duration\n",
            "protocol_type\n",
            "service\n",
            "src_bytes\n",
            "dst_bytes\n",
            "land\n",
            "wrong_fragment\n",
            "urgent\n",
            "num_failed_logins\n",
            "logged_in\n",
            "root_shell\n",
            "num_file_creations\n",
            "num_shells\n",
            "num_access_files\n",
            "is_host_login\n",
            "count\n",
            "srv_count\n",
            "diff_srv_rate\n",
            "srv_diff_host_rate\n",
            "dst_host_count\n",
            "dst_host_diff_srv_rate\n",
            "dst_host_same_src_port_rate\n",
            "dst_host_srv_diff_host_rate\n",
            "labels\n"
          ]
        }
      ]
    },
    {
      "cell_type": "code",
      "source": [
        "# Get the set of features for each dataset\n",
        "features_set1 = set(df1_train.columns)\n",
        "features_set2 = set(df1_train_with_correlation.columns)\n",
        "\n",
        "# Find the features present in df1_train but absent in df1_train_with_correlation\n",
        "features_only_in_df1_train = features_set1 - features_set2\n",
        "\n",
        "# Find the features present in df1_train_with_correlation but absent in df1_train\n",
        "features_only_in_df1_train_with_correlation = features_set2 - features_set1\n",
        "\n",
        "# Print the features present only in df1_train\n",
        "print(\"Features present only in df1_train:\")\n",
        "for feature in features_only_in_df1_train:\n",
        "    print(feature)\n",
        "\n",
        "# Print the features present only in df1_train_with_correlation\n",
        "print(\"Features present only in df1_train_with_correlation:\")\n",
        "for feature in features_only_in_df1_train_with_correlation:\n",
        "    print(feature)"
      ],
      "metadata": {
        "colab": {
          "base_uri": "https://localhost:8080/"
        },
        "id": "uZJeqZv8AY5E",
        "outputId": "21cb3e62-edef-45d8-c116-b2f400fd5bd2"
      },
      "execution_count": null,
      "outputs": [
        {
          "output_type": "stream",
          "name": "stdout",
          "text": [
            "Features present only in df1_train:\n",
            "serror_rate\n",
            "srv_serror_rate\n",
            "dst_host_srv_count\n",
            "flag\n",
            "num_compromised\n",
            "hot\n",
            "is_guest_login\n",
            "dst_host_srv_serror_rate\n",
            "srv_rerror_rate\n",
            "dst_host_serror_rate\n",
            "rerror_rate\n",
            "su_attempted\n",
            "num_root\n",
            "dst_host_same_srv_rate\n",
            "same_srv_rate\n",
            "dst_host_srv_rerror_rate\n",
            "dst_host_rerror_rate\n",
            "Features present only in df1_train_with_correlation:\n"
          ]
        }
      ]
    },
    {
      "cell_type": "code",
      "source": [
        "df1_test_with_correlation_copy = df1_test.copy()\n",
        "\n",
        "#drop the same correlated features from test set that were dropped from the train set\n",
        "df1_test_with_correlation = df1_test_with_correlation_copy.drop(features_only_in_df1_train, axis=1)\n",
        "\n",
        "# Get the set of features for each dataset\n",
        "features_set1 = set(df1_test.columns)\n",
        "features_set2 = set(df1_test_with_correlation.columns)\n",
        "\n",
        "# Find the features present in df1_train but absent in df1_train_with_correlation\n",
        "features_only_in_df1_test = features_set1 - features_set2\n",
        "\n",
        "# Find the features present in df1_train_with_correlation but absent in df1_train\n",
        "features_only_in_df1_test_with_correlation = features_set2 - features_set1\n",
        "\n",
        "# Print the features present only in df1_train\n",
        "print(\"Features present only in df1_test:\")\n",
        "for feature in features_only_in_df1_test:\n",
        "    print(feature)\n",
        "\n",
        "# Print the features present only in df1_train_with_correlation\n",
        "print(\"Features present only in df1_test_with_correlation:\")\n",
        "for feature in features_only_in_df1_test_with_correlation:\n",
        "    print(feature)"
      ],
      "metadata": {
        "colab": {
          "base_uri": "https://localhost:8080/"
        },
        "id": "haXDKZFMV2Sz",
        "outputId": "45e0c67b-5948-4682-9d2c-ee64e17f50ce"
      },
      "execution_count": null,
      "outputs": [
        {
          "output_type": "stream",
          "name": "stdout",
          "text": [
            "Features present only in df1_test:\n",
            "serror_rate\n",
            "srv_serror_rate\n",
            "dst_host_srv_count\n",
            "flag\n",
            "num_compromised\n",
            "hot\n",
            "is_guest_login\n",
            "dst_host_srv_serror_rate\n",
            "srv_rerror_rate\n",
            "dst_host_serror_rate\n",
            "rerror_rate\n",
            "su_attempted\n",
            "num_root\n",
            "dst_host_same_srv_rate\n",
            "same_srv_rate\n",
            "dst_host_srv_rerror_rate\n",
            "dst_host_rerror_rate\n",
            "Features present only in df1_test_with_correlation:\n"
          ]
        }
      ]
    },
    {
      "cell_type": "code",
      "source": [
        "df1_test_with_correlation.shape"
      ],
      "metadata": {
        "colab": {
          "base_uri": "https://localhost:8080/"
        },
        "id": "BDmNg8CsV_3H",
        "outputId": "3d0c121c-c17d-4e64-97ef-a4c2add2ccb2"
      },
      "execution_count": null,
      "outputs": [
        {
          "output_type": "execute_result",
          "data": {
            "text/plain": [
              "(22544, 24)"
            ]
          },
          "metadata": {},
          "execution_count": 400
        }
      ]
    },
    {
      "cell_type": "code",
      "source": [
        "df1_train_with_correlation.shape"
      ],
      "metadata": {
        "colab": {
          "base_uri": "https://localhost:8080/"
        },
        "id": "wWaK2qZeEDGI",
        "outputId": "fd172a4f-a3da-4288-ecb3-b3d3e43900fe"
      },
      "execution_count": null,
      "outputs": [
        {
          "output_type": "execute_result",
          "data": {
            "text/plain": [
              "(125973, 24)"
            ]
          },
          "metadata": {},
          "execution_count": 401
        }
      ]
    },
    {
      "cell_type": "code",
      "source": [
        "#implementing decision tree model on datasets without correlation drop\n",
        "\n",
        "import time\n",
        "from sklearn.tree import DecisionTreeClassifier\n",
        "from sklearn.metrics import accuracy_score, precision_score, recall_score, mean_squared_error\n",
        "from sklearn.metrics import confusion_matrix\n",
        "import seaborn as sns\n",
        "\n",
        "\n",
        "# Separate the features and target variable\n",
        "X_train = df1_train.drop('labels', axis=1)  # Features\n",
        "y_train = df1_train['labels']  # Target variable\n",
        "\n",
        "# Separate the features and target variable\n",
        "X_test = df1_test.drop('labels', axis=1)  # Features\n",
        "y_test = df1_test['labels']  # Target variable\n",
        "\n",
        "\n",
        "start_time = time.time()\n",
        "\n",
        "# Create a decision tree classifier\n",
        "clf_without_correlation = DecisionTreeClassifier()\n",
        "\n",
        "# Train the decision tree classifier\n",
        "clf_without_correlation.fit(X_train, y_train)\n",
        "\n",
        "learning_time = time.time() - start_time\n",
        "\n",
        "\n",
        "start_time = time.time()\n",
        "\n",
        "# Make predictions on the test set\n",
        "y_pred = clf_without_correlation.predict(X_test)\n",
        "\n",
        "detection_time = time.time() - start_time\n",
        "\n",
        "\n",
        "# Calculate accuracy, precision, and recall\n",
        "accuracy = accuracy_score(y_test, y_pred)\n",
        "precision = precision_score(y_test, y_pred, average='macro')\n",
        "recall = recall_score(y_test, y_pred, average='macro')\n",
        "\n",
        "# Print the results\n",
        "print(\"Accuracy:\", accuracy)\n",
        "print(\"Precision:\", precision)\n",
        "print(\"Recall:\", recall)\n",
        "print(\"Learning Time:\", learning_time, \"seconds\")\n",
        "print(\"Detection Time:\", detection_time, \"seconds\")\n",
        "\n",
        "# Calculate the MSE\n",
        "mse = mean_squared_error(y_test, y_pred)\n",
        "print(\"Mean Squared Error:\", mse)\n",
        "\n",
        "# Compute the confusion matrix\n",
        "cm = confusion_matrix(y_test, y_pred)\n",
        "\n",
        "print(\"Confusion Matrix:\")\n",
        "print(cm)\n",
        "\n",
        "# Define the labels for the confusion matrix\n",
        "labels = ['Normal', 'DOS', 'Probe', 'R2L','U2R']\n",
        "\n",
        "# Create a heatmap of the confusion matrix\n",
        "sns.heatmap(cm, annot=True, cmap='Blues', fmt='d', xticklabels=labels, yticklabels=labels)\n",
        "\n",
        "# Set the axis labels and title\n",
        "plt.xlabel('Predicted')\n",
        "plt.ylabel('Actual')\n",
        "plt.title('Confusion Matrix')\n",
        "\n",
        "# Save the plot as an image file\n",
        "plt.savefig('confusion_matrix.png', dpi=300)\n",
        "\n",
        "# Display a message indicating the file has been saved\n",
        "print(\"Confusion matrix saved as confusion_matrix.png\")\n",
        "\n",
        "# Display the plot\n",
        "plt.show()"
      ],
      "metadata": {
        "colab": {
          "base_uri": "https://localhost:8080/",
          "height": 693
        },
        "id": "Lp73fCpdUB7V",
        "outputId": "3ab4d66e-438f-40f4-b7db-0024f29e7f81"
      },
      "execution_count": null,
      "outputs": [
        {
          "output_type": "stream",
          "name": "stdout",
          "text": [
            "Accuracy: 0.9111958836053939\n",
            "Precision: 0.7957945914420229\n",
            "Recall: 0.6145494130999268\n",
            "Learning Time: 1.1786365509033203 seconds\n",
            "Detection Time: 0.009320497512817383 seconds\n",
            "Mean Squared Error: 0.48181334279630944\n",
            "Confusion Matrix:\n",
            "[[11144    13    83     5     0]\n",
            " [  376  7553   141    21     4]\n",
            " [  348    63  1721    25     0]\n",
            " [  884     0     7   115     3]\n",
            " [   24     0     0     5     9]]\n",
            "Confusion matrix saved as confusion_matrix.png\n"
          ]
        },
        {
          "output_type": "display_data",
          "data": {
            "text/plain": [
              "<Figure size 640x480 with 2 Axes>"
            ],
            "image/png": "[encoded data removed]"
          },
          "metadata": {}
        }
      ]
    },
    {
      "cell_type": "code",
      "source": [
        "#implementing decision tree model on datasets with correlation drop\n",
        "\n",
        "import time\n",
        "from sklearn.tree import DecisionTreeClassifier\n",
        "from sklearn.metrics import accuracy_score, precision_score, recall_score\n",
        "from sklearn.metrics import confusion_matrix\n",
        "import seaborn as sns\n",
        "\n",
        "\n",
        "# Separate the features and target variable\n",
        "X_train_with_correlation = df1_train_with_correlation.drop('labels', axis=1)  # Features\n",
        "y_train_with_correlation = df1_train_with_correlation['labels']  # Target variable\n",
        "\n",
        "# Separate the features and target variable\n",
        "X_test_with_correlation = df1_test_with_correlation.drop('labels', axis=1)  # Features\n",
        "y_test_with_correlation = df1_test_with_correlation['labels']  # Target variable\n",
        "\n",
        "\n",
        "start_time = time.time()\n",
        "\n",
        "# Create a decision tree classifier\n",
        "clf_with_correlation = DecisionTreeClassifier()\n",
        "\n",
        "# Train the decision tree classifier\n",
        "clf_with_correlation.fit(X_train_with_correlation, y_train_with_correlation)\n",
        "\n",
        "learning_time = time.time() - start_time\n",
        "\n",
        "\n",
        "\n",
        "start_time = time.time()\n",
        "\n",
        "# Make predictions on the test set\n",
        "y_pred_with_correlation = clf_with_correlation.predict(X_test_with_correlation)\n",
        "\n",
        "detection_time = time.time() - start_time\n",
        "\n",
        "\n",
        "# Calculate accuracy, precision, and recall\n",
        "accuracy = accuracy_score(y_test_with_correlation, y_pred_with_correlation)\n",
        "precision = precision_score(y_test_with_correlation, y_pred_with_correlation, average='macro')\n",
        "recall = recall_score(y_test_with_correlation, y_pred_with_correlation, average='macro')\n",
        "\n",
        "# Print the results\n",
        "print(\"Accuracy:\", accuracy)\n",
        "print(\"Precision:\", precision)\n",
        "print(\"Recall:\", recall)\n",
        "print(\"Learning Time:\", learning_time, \"seconds\")\n",
        "print(\"Detection Time:\", detection_time, \"seconds\")\n",
        "\n",
        "# Calculate the MSE\n",
        "mse = mean_squared_error(y_test, y_pred)\n",
        "print(\"Mean Squared Error:\", mse)\n",
        "\n",
        "# Compute the confusion matrix\n",
        "cm = confusion_matrix(y_test_with_correlation, y_pred_with_correlation)\n",
        "\n",
        "print(\"Confusion Matrix:\")\n",
        "print(cm)\n",
        "\n",
        "# Define the labels for the confusion matrix\n",
        "labels = ['Normal', 'DOS', 'Probe', 'R2L','U2R']\n",
        "\n",
        "# Create a heatmap of the confusion matrix\n",
        "sns.heatmap(cm, annot=True, cmap='Blues', fmt='d', xticklabels=labels, yticklabels=labels)\n",
        "\n",
        "# Set the axis labels and title\n",
        "plt.xlabel('Predicted')\n",
        "plt.ylabel('Actual')\n",
        "plt.title('Confusion Matrix')\n",
        "\n",
        "# Save the plot as an image file\n",
        "plt.savefig('confusion_matrix_with_correlation.png', dpi=300)\n",
        "\n",
        "# Display a message indicating the file has been saved\n",
        "print(\"Confusion matrix saved as confusion_matrix.png\")\n",
        "\n",
        "# Display the plot\n",
        "plt.show()"
      ],
      "metadata": {
        "colab": {
          "base_uri": "https://localhost:8080/",
          "height": 693
        },
        "id": "PdMiU-TZI8sJ",
        "outputId": "6229a11f-d226-4ba1-e77c-2b47668197aa"
      },
      "execution_count": null,
      "outputs": [
        {
          "output_type": "stream",
          "name": "stdout",
          "text": [
            "Accuracy: 0.9021912704045423\n",
            "Precision: 0.8090516678133259\n",
            "Recall: 0.6003941437736138\n",
            "Learning Time: 0.717564582824707 seconds\n",
            "Detection Time: 0.005421161651611328 seconds\n",
            "Mean Squared Error: 0.48181334279630944\n",
            "Confusion Matrix:\n",
            "[[11100    21   115     8     1]\n",
            " [  591  7401    47    56     0]\n",
            " [  309    72  1751    25     0]\n",
            " [  769     1   160    79     0]\n",
            " [   25     0     0     5     8]]\n",
            "Confusion matrix saved as confusion_matrix.png\n"
          ]
        },
        {
          "output_type": "display_data",
          "data": {
            "text/plain": [
              "<Figure size 640x480 with 2 Axes>"
            ],
            "image/png": "[encoded data removed]"
          },
          "metadata": {}
        }
      ]
    },
    {
      "cell_type": "code",
      "source": [
        "#implementing decision tree model on datasets with Recursive Feature Extraction\n",
        "\n",
        "from sklearn.feature_selection import RFE\n",
        "\n",
        "df2_train = df1_train.copy()\n",
        "df2_test = df1_test.copy()\n",
        "\n",
        "# Separate the features and target variable\n",
        "X_train = df2_train.drop('labels', axis=1)  # Features\n",
        "y_train = df2_train['labels']  # Target variable\n",
        "\n",
        "# Separate the features and target variable\n",
        "X_test = df2_test.drop('labels', axis=1)  # Features\n",
        "y_test = df2_test['labels']  # Target variable\n",
        "\n",
        "\n",
        "start_time = time.time()\n",
        "\n",
        "# Create a decision tree classifier\n",
        "clf_with_rfe = DecisionTreeClassifier()\n",
        "\n",
        "# Create the RFE object and specify the number of features to select\n",
        "rfe = RFE(estimator=clf_with_rfe, n_features_to_select=30)  # Adjust the number of features as needed\n",
        "\n",
        "rfe.fit(X_train, y_train)\n",
        "\n",
        "X_train_selected = rfe.transform(X_train)\n",
        "X_test_selected = rfe.transform(X_test)\n",
        "\n",
        "# Train the decision tree classifier on the selected features\n",
        "clf_with_rfe.fit(X_train_selected, y_train)\n",
        "\n",
        "learning_time = time.time() - start_time\n",
        "\n",
        "\n",
        "start_time = time.time()\n",
        "\n",
        "# Make predictions on the test set\n",
        "y_pred_with_rfe = clf_with_rfe.predict(X_test_selected)\n",
        "\n",
        "detection_time = time.time() - start_time\n",
        "\n",
        "\n",
        "# Calculate accuracy, precision, and recall\n",
        "accuracy = accuracy_score(y_test, y_pred_with_rfe)\n",
        "precision = precision_score(y_test, y_pred_with_rfe, average='macro')\n",
        "recall = recall_score(y_test, y_pred_with_rfe, average='macro')\n",
        "\n",
        "# Print the results\n",
        "print(\"Accuracy:\", accuracy)\n",
        "print(\"Precision:\", precision)\n",
        "print(\"Recall:\", recall)\n",
        "print(\"Learning Time:\", learning_time, \"seconds\")\n",
        "print(\"Detection Time:\", detection_time, \"seconds\")\n",
        "\n",
        "# Calculate the MSE\n",
        "mse = mean_squared_error(y_test, y_pred_with_rfe)\n",
        "print(\"Mean Squared Error:\", mse)\n",
        "\n",
        "# Compute the confusion matrix\n",
        "cm = confusion_matrix(y_test, y_pred_with_rfe)\n",
        "\n",
        "print(\"Confusion Matrix:\")\n",
        "print(cm)\n",
        "\n",
        "# Define the labels for the confusion matrix\n",
        "labels = ['Normal', 'DOS', 'Probe', 'R2L','U2R']\n",
        "\n",
        "# Create a heatmap of the confusion matrix\n",
        "sns.heatmap(cm, annot=True, cmap='Blues', fmt='d', xticklabels=labels, yticklabels=labels)\n",
        "\n",
        "# Set the axis labels and title\n",
        "plt.xlabel('Predicted')\n",
        "plt.ylabel('Actual')\n",
        "plt.title('Confusion Matrix')\n",
        "\n",
        "# Save the plot as an image file\n",
        "plt.savefig('confusion_matrix_with_rfe_35.png', dpi=300)\n",
        "\n",
        "# Display a message indicating the file has been saved\n",
        "print(\"Confusion matrix saved as confusion_matrix.png\")\n",
        "\n",
        "# Display the plot\n",
        "plt.show()\n"
      ],
      "metadata": {
        "colab": {
          "base_uri": "https://localhost:8080/",
          "height": 693
        },
        "id": "egjafe_NY3oZ",
        "outputId": "df4d89f2-19a9-45ca-8225-9a482ef879f2"
      },
      "execution_count": null,
      "outputs": [
        {
          "output_type": "stream",
          "name": "stdout",
          "text": [
            "Accuracy: 0.9103974449964514\n",
            "Precision: 0.8537343937057008\n",
            "Recall: 0.6331889086310811\n",
            "Learning Time: 13.717270612716675 seconds\n",
            "Detection Time: 0.0035393238067626953 seconds\n",
            "Mean Squared Error: 0.473207948899929\n",
            "Confusion Matrix:\n",
            "[[11143    14    80     8     0]\n",
            " [  300  7527   247    21     0]\n",
            " [  370    63  1699    25     0]\n",
            " [  857     0     7   143     2]\n",
            " [   21     0     0     5    12]]\n",
            "Confusion matrix saved as confusion_matrix.png\n"
          ]
        },
        {
          "output_type": "display_data",
          "data": {
            "text/plain": [
              "<Figure size 640x480 with 2 Axes>"
            ],
            "image/png": "[encoded data removed]"
          },
          "metadata": {}
        }
      ]
    },
    {
      "cell_type": "code",
      "source": [
        "\"\"\"\n",
        "\n",
        "#implementing decision tree model on datasets without correlation drop and with complete services\n",
        "\n",
        "import time\n",
        "from sklearn.tree import DecisionTreeClassifier\n",
        "from sklearn.metrics import accuracy_score, precision_score, recall_score, mean_squared_error\n",
        "from sklearn.metrics import confusion_matrix\n",
        "import seaborn as sns\n",
        "\n",
        "\n",
        "# Separate the features and target variable\n",
        "X_train = df1_train.drop('labels', axis=1)  # Features\n",
        "y_train = df1_train['labels']  # Target variable\n",
        "\n",
        "# Separate the features and target variable\n",
        "X_test = df1_test_all_services.drop('labels', axis=1)  # Features\n",
        "y_test = df1_test_all_services['labels']  # Target variable\n",
        "\n",
        "\n",
        "start_time = time.time()\n",
        "\n",
        "# Create a decision tree classifier\n",
        "clf_complete = DecisionTreeClassifier()\n",
        "\n",
        "# Train the decision tree classifier\n",
        "clf_complete.fit(X_train, y_train)\n",
        "\n",
        "learning_time = time.time() - start_time\n",
        "\n",
        "\n",
        "start_time = time.time()\n",
        "\n",
        "# Make predictions on the test set\n",
        "y_pred = clf_complete.predict(X_test)\n",
        "\n",
        "detection_time = time.time() - start_time\n",
        "\n",
        "\n",
        "# Calculate accuracy, precision, and recall\n",
        "accuracy = accuracy_score(y_test, y_pred)\n",
        "precision = precision_score(y_test, y_pred, average='macro', zero_division=0)\n",
        "recall = recall_score(y_test, y_pred, average='macro')\n",
        "\n",
        "# Print the results\n",
        "print(\"Accuracy:\", accuracy)\n",
        "print(\"Precision:\", precision)\n",
        "print(\"Recall:\", recall)\n",
        "print(\"Learning Time:\", learning_time, \"seconds\")\n",
        "print(\"Detection Time:\", detection_time, \"seconds\")\n",
        "\n",
        "# Calculate the MSE\n",
        "mse = mean_squared_error(y_test, y_pred)\n",
        "print(\"Mean Squared Error:\", mse)\n",
        "\n",
        "# Compute the confusion matrix\n",
        "cm = confusion_matrix(y_test, y_pred)\n",
        "\n",
        "print(\"Confusion Matrix:\")\n",
        "print(cm)\n",
        "\n",
        "# Define the labels for the confusion matrix\n",
        "labels = ['Normal', 'DOS', 'Probe', 'R2L','U2R']\n",
        "\n",
        "# Create a heatmap of the confusion matrix\n",
        "sns.heatmap(cm, annot=True, cmap='Blues', fmt='d', xticklabels=labels, yticklabels=labels)\n",
        "\n",
        "# Set the axis labels and title\n",
        "plt.xlabel('Predicted')\n",
        "plt.ylabel('Actual')\n",
        "plt.title('Confusion Matrix')\n",
        "\n",
        "# Save the plot as an image file\n",
        "plt.savefig('confusion_matrix_all_services.png', dpi=300)\n",
        "\n",
        "# Display a message indicating the file has been saved\n",
        "print(\"Confusion matrix saved as confusion_matrix.png\")\n",
        "\n",
        "# Display the plot\n",
        "plt.show()\n",
        "\n",
        "\"\"\"\n",
        "\n",
        "print(\"commented\")"
      ],
      "metadata": {
        "colab": {
          "base_uri": "https://localhost:8080/"
        },
        "id": "ylCWU9vO7tm6",
        "outputId": "1570c6cf-583e-46de-faf5-d11cb7ade645"
      },
      "execution_count": null,
      "outputs": [
        {
          "output_type": "stream",
          "name": "stdout",
          "text": [
            "commented\n"
          ]
        }
      ]
    },
    {
      "cell_type": "code",
      "source": [
        "import matplotlib.pyplot as plt\n",
        "\n",
        "# Example data\n",
        "models = ['DTC', 'DTNC', 'DTRFE']\n",
        "accuracies = [0.909, 0.902, 0.914]\n",
        "precisions = [0.832, 0.872, 0.863]\n",
        "recalls = [0.633, 0.623, 0.620]\n",
        "\n",
        "# Bar positions\n",
        "x = range(len(models))\n",
        "\n",
        "plt.figure(figsize=(10, 6))\n",
        "\n",
        "\n",
        "# Plotting the bar chart\n",
        "plt.bar(x, accuracies, width=0.2, label='Accuracy')\n",
        "plt.bar([i + 0.2 for i in x], precisions, width=0.2, label='Precision')\n",
        "plt.bar([i + 0.4 for i in x], recalls, width=0.2, label='Recall')\n",
        "\n",
        "# X-axis labels and title\n",
        "plt.xlabel('Models')\n",
        "plt.ylabel('Scores')\n",
        "plt.title('Model Performance')\n",
        "\n",
        "# Customizing x-axis tick labels\n",
        "plt.xticks([i + 0.2 for i in x], models)\n",
        "\n",
        "\n",
        "# Adding a legend\n",
        "plt.legend()\n",
        "\n",
        "plt.grid()\n",
        "\n",
        "# Save the plot as an image file\n",
        "plt.savefig('Model Performance.png', dpi=300)\n",
        "\n",
        "# Display a message indicating the file has been saved\n",
        "print(\"Model Performance.png\")\n",
        "\n",
        "# Display the chart\n",
        "plt.show()"
      ],
      "metadata": {
        "colab": {
          "base_uri": "https://localhost:8080/",
          "height": 581
        },
        "id": "uSPQM0ucO63r",
        "outputId": "58d1e65b-32bb-436b-e572-eef9451188a1"
      },
      "execution_count": null,
      "outputs": [
        {
          "output_type": "stream",
          "name": "stdout",
          "text": [
            "Model Performance.png\n"
          ]
        },
        {
          "output_type": "display_data",
          "data": {
            "text/plain": [
              "<Figure size 1000x600 with 1 Axes>"
            ],
            "image/png": "[encoded data removed]"
          },
          "metadata": {}
        }
      ]
    },
    {
      "cell_type": "markdown",
      "source": [
        "**Random Forest**"
      ],
      "metadata": {
        "id": "-M3XG7U13pq0"
      }
    },
    {
      "cell_type": "code",
      "source": [
        "#implementing random model on datasets without correlation drop\n",
        "\n",
        "import time\n",
        "from sklearn.ensemble import RandomForestClassifier\n",
        "from sklearn.metrics import accuracy_score, precision_score, recall_score, mean_squared_error\n",
        "from sklearn.metrics import confusion_matrix\n",
        "import seaborn as sns\n",
        "\n",
        "\n",
        "# Separate the features and target variable\n",
        "X_train = df1_train.drop('labels', axis=1)  # Features\n",
        "y_train = df1_train['labels']  # Target variable\n",
        "\n",
        "# Separate the features and target variable\n",
        "X_test = df1_test.drop('labels', axis=1)  # Features\n",
        "y_test = df1_test['labels']  # Target variable\n",
        "\n",
        "\n",
        "start_time = time.time()\n",
        "\n",
        "\n",
        "# Create a Random Forest classifier\n",
        "rf_model_without_correlation = RandomForestClassifier(n_estimators=100, random_state=42)\n",
        "\n",
        "# Train the model on the training data\n",
        "rf_model_without_correlation.fit(X_train, y_train)\n",
        "\n",
        "\n",
        "learning_time = time.time() - start_time\n",
        "\n",
        "\n",
        "start_time = time.time()\n",
        "\n",
        "# Make predictions on the testing data\n",
        "y_pred = rf_model_without_correlation.predict(X_test)\n",
        "\n",
        "detection_time = time.time() - start_time\n",
        "\n",
        "\n",
        "# Calculate accuracy, precision, and recall\n",
        "accuracy = accuracy_score(y_test, y_pred)\n",
        "precision = precision_score(y_test, y_pred, average='macro')\n",
        "recall = recall_score(y_test, y_pred, average='macro')\n",
        "\n",
        "# Print the results\n",
        "print(\"Accuracy:\", accuracy)\n",
        "print(\"Precision:\", precision)\n",
        "print(\"Recall:\", recall)\n",
        "print(\"Learning Time:\", learning_time, \"seconds\")\n",
        "print(\"Detection Time:\", detection_time, \"seconds\")\n",
        "\n",
        "# Calculate the MSE\n",
        "mse = mean_squared_error(y_test, y_pred)\n",
        "print(\"Mean Squared Error:\", mse)\n",
        "\n",
        "# Compute the confusion matrix\n",
        "cm = confusion_matrix(y_test, y_pred)\n",
        "\n",
        "print(\"Confusion Matrix:\")\n",
        "print(cm)\n",
        "\n",
        "# Define the labels for the confusion matrix\n",
        "labels = ['Normal', 'DOS', 'Probe', 'R2L','U2R']\n",
        "\n",
        "# Create a heatmap of the confusion matrix\n",
        "sns.heatmap(cm, annot=True, cmap='Blues', fmt='d', xticklabels=labels, yticklabels=labels)\n",
        "\n",
        "# Set the axis labels and title\n",
        "plt.xlabel('Predicted')\n",
        "plt.ylabel('Actual')\n",
        "plt.title('Confusion Matrix')\n",
        "\n",
        "# Save the plot as an image file\n",
        "plt.savefig('confusion_matrix_random_forest_WC.png', dpi=300)\n",
        "\n",
        "# Display a message indicating the file has been saved\n",
        "print(\"Confusion matrix saved as confusion_matrix.png\")\n",
        "\n",
        "# Display the plot\n",
        "plt.show()"
      ],
      "metadata": {
        "colab": {
          "base_uri": "https://localhost:8080/",
          "height": 693
        },
        "id": "V0AsJlKB3lR2",
        "outputId": "cf2c0e78-885b-44d0-829e-a4bef8d4cae2"
      },
      "execution_count": null,
      "outputs": [
        {
          "output_type": "stream",
          "name": "stdout",
          "text": [
            "Accuracy: 0.913458126330731\n",
            "Precision: 0.9577787223081355\n",
            "Recall: 0.6225249986047741\n",
            "Learning Time: 12.863696813583374 seconds\n",
            "Detection Time: 0.26882481575012207 seconds\n",
            "Mean Squared Error: 0.487402413058907\n",
            "Confusion Matrix:\n",
            "[[11161    22    61     1     0]\n",
            " [  477  7606    12     0     0]\n",
            " [  384    52  1721     0     0]\n",
            " [  913     0     2    94     0]\n",
            " [   26     0     0     1    11]]\n",
            "Confusion matrix saved as confusion_matrix.png\n"
          ]
        },
        {
          "output_type": "display_data",
          "data": {
            "text/plain": [
              "<Figure size 640x480 with 2 Axes>"
            ],
            "image/png": "[encoded data removed]"
          },
          "metadata": {}
        }
      ]
    },
    {
      "cell_type": "code",
      "source": [
        "#implementing random forest model on datasets with correlation drop\n",
        "\n",
        "import time\n",
        "from sklearn.ensemble import RandomForestClassifier\n",
        "from sklearn.metrics import accuracy_score, precision_score, recall_score\n",
        "from sklearn.metrics import confusion_matrix\n",
        "import seaborn as sns\n",
        "\n",
        "\n",
        "# Separate the features and target variable\n",
        "X_train_with_correlation = df1_train_with_correlation.drop('labels', axis=1)  # Features\n",
        "y_train_with_correlation = df1_train_with_correlation['labels']  # Target variable\n",
        "\n",
        "# Separate the features and target variable\n",
        "X_test_with_correlation = df1_test_with_correlation.drop('labels', axis=1)  # Features\n",
        "y_test_with_correlation = df1_test_with_correlation['labels']  # Target variable\n",
        "\n",
        "\n",
        "start_time = time.time()\n",
        "\n",
        "\n",
        "# Create a Random Forest classifier\n",
        "rf_model_with_correlation = RandomForestClassifier(n_estimators=100, random_state=42)\n",
        "\n",
        "# Train the model on the training data\n",
        "rf_model_with_correlation.fit(X_train, y_train)\n",
        "\n",
        "\n",
        "learning_time = time.time() - start_time\n",
        "\n",
        "\n",
        "start_time = time.time()\n",
        "\n",
        "# Make predictions on the testing data\n",
        "y_pred = rf_model_with_correlation.predict(X_test)\n",
        "\n",
        "detection_time = time.time() - start_time\n",
        "\n",
        "\n",
        "# Calculate accuracy, precision, and recall\n",
        "accuracy = accuracy_score(y_test_with_correlation, y_pred_with_correlation)\n",
        "precision = precision_score(y_test_with_correlation, y_pred_with_correlation, average='macro')\n",
        "recall = recall_score(y_test_with_correlation, y_pred_with_correlation, average='macro')\n",
        "\n",
        "# Print the results\n",
        "print(\"Accuracy:\", accuracy)\n",
        "print(\"Precision:\", precision)\n",
        "print(\"Recall:\", recall)\n",
        "print(\"Learning Time:\", learning_time, \"seconds\")\n",
        "print(\"Detection Time:\", detection_time, \"seconds\")\n",
        "\n",
        "# Calculate the MSE\n",
        "mse = mean_squared_error(y_test, y_pred)\n",
        "print(\"Mean Squared Error:\", mse)\n",
        "\n",
        "# Compute the confusion matrix\n",
        "cm = confusion_matrix(y_test_with_correlation, y_pred_with_correlation)\n",
        "\n",
        "print(\"Confusion Matrix:\")\n",
        "print(cm)\n",
        "\n",
        "# Define the labels for the confusion matrix\n",
        "labels = ['Normal', 'DOS', 'Probe', 'R2L','U2R']\n",
        "\n",
        "# Create a heatmap of the confusion matrix\n",
        "sns.heatmap(cm, annot=True, cmap='Blues', fmt='d', xticklabels=labels, yticklabels=labels)\n",
        "\n",
        "# Set the axis labels and title\n",
        "plt.xlabel('Predicted')\n",
        "plt.ylabel('Actual')\n",
        "plt.title('Confusion Matrix')\n",
        "\n",
        "# Save the plot as an image file\n",
        "plt.savefig('confusion_matrix_with_correlation_randomForest.png', dpi=300)\n",
        "\n",
        "# Display a message indicating the file has been saved\n",
        "print(\"Confusion matrix saved as confusion_matrix.png\")\n",
        "\n",
        "# Display the plot\n",
        "plt.show()"
      ],
      "metadata": {
        "colab": {
          "base_uri": "https://localhost:8080/",
          "height": 693
        },
        "id": "-p0PWVE76dCs",
        "outputId": "db368eea-b3aa-4d6b-e8ed-1d57d61ac4b8"
      },
      "execution_count": null,
      "outputs": [
        {
          "output_type": "stream",
          "name": "stdout",
          "text": [
            "Accuracy: 0.9021912704045423\n",
            "Precision: 0.8090516678133259\n",
            "Recall: 0.6003941437736138\n",
            "Learning Time: 15.284660816192627 seconds\n",
            "Detection Time: 0.37015390396118164 seconds\n",
            "Mean Squared Error: 0.487402413058907\n",
            "Confusion Matrix:\n",
            "[[11100    21   115     8     1]\n",
            " [  591  7401    47    56     0]\n",
            " [  309    72  1751    25     0]\n",
            " [  769     1   160    79     0]\n",
            " [   25     0     0     5     8]]\n",
            "Confusion matrix saved as confusion_matrix.png\n"
          ]
        },
        {
          "output_type": "display_data",
          "data": {
            "text/plain": [
              "<Figure size 640x480 with 2 Axes>"
            ],
            "image/png": "[encoded data removed]"
          },
          "metadata": {}
        }
      ]
    },
    {
      "cell_type": "code",
      "source": [
        "#implementing random forest model on datasets with Recursive Feature Extraction\n",
        "\n",
        "from sklearn.feature_selection import RFE\n",
        "\n",
        "df2_train = df1_train.copy()\n",
        "df2_test = df1_test.copy()\n",
        "\n",
        "# Separate the features and target variable\n",
        "X_train = df2_train.drop('labels', axis=1)  # Features\n",
        "y_train = df2_train['labels']  # Target variable\n",
        "\n",
        "# Separate the features and target variable\n",
        "X_test = df2_test.drop('labels', axis=1)  # Features\n",
        "y_test = df2_test['labels']  # Target variable\n",
        "\n",
        "\n",
        "\n",
        "start_time = time.time()\n",
        "\n",
        "\n",
        "# Create a Random Forest classifier\n",
        "rf_model_with_rfe = RandomForestClassifier(n_estimators=100, random_state=42)\n",
        "\n",
        "# Create the RFE object and specify the number of features to select\n",
        "rfe = RFE(estimator=clf_with_rfe, n_features_to_select=30)  # Adjust the number of features as needed\n",
        "\n",
        "rfe.fit(X_train, y_train)\n",
        "\n",
        "X_train_selected = rfe.transform(X_train)\n",
        "X_test_selected = rfe.transform(X_test)\n",
        "\n",
        "# Train the model on the training data\n",
        "rf_model_with_rfe.fit(X_train, y_train)\n",
        "\n",
        "\n",
        "learning_time = time.time() - start_time\n",
        "\n",
        "\n",
        "start_time = time.time()\n",
        "\n",
        "# Make predictions on the testing data\n",
        "y_pred_with_rfe = rf_model_with_rfe.predict(X_test)\n",
        "\n",
        "detection_time = time.time() - start_time\n",
        "\n",
        "\n",
        "\n",
        "# Calculate accuracy, precision, and recall\n",
        "accuracy = accuracy_score(y_test, y_pred_with_rfe)\n",
        "precision = precision_score(y_test, y_pred_with_rfe, average='macro')\n",
        "recall = recall_score(y_test, y_pred_with_rfe, average='macro')\n",
        "\n",
        "# Print the results\n",
        "print(\"Accuracy:\", accuracy)\n",
        "print(\"Precision:\", precision)\n",
        "print(\"Recall:\", recall)\n",
        "print(\"Learning Time:\", learning_time, \"seconds\")\n",
        "print(\"Detection Time:\", detection_time, \"seconds\")\n",
        "\n",
        "# Calculate the MSE\n",
        "mse = mean_squared_error(y_test, y_pred_with_rfe)\n",
        "print(\"Mean Squared Error:\", mse)\n",
        "\n",
        "# Compute the confusion matrix\n",
        "cm = confusion_matrix(y_test, y_pred_with_rfe)\n",
        "\n",
        "print(\"Confusion Matrix:\")\n",
        "print(cm)\n",
        "\n",
        "# Define the labels for the confusion matrix\n",
        "labels = ['Normal', 'DOS', 'Probe', 'R2L','U2R']\n",
        "\n",
        "# Create a heatmap of the confusion matrix\n",
        "sns.heatmap(cm, annot=True, cmap='Blues', fmt='d', xticklabels=labels, yticklabels=labels)\n",
        "\n",
        "# Set the axis labels and title\n",
        "plt.xlabel('Predicted')\n",
        "plt.ylabel('Actual')\n",
        "plt.title('Confusion Matrix')\n",
        "\n",
        "# Save the plot as an image file\n",
        "plt.savefig('confusion_matrix_with_rfe_30_randomForest.png', dpi=300)\n",
        "\n",
        "# Display a message indicating the file has been saved\n",
        "print(\"Confusion matrix saved as confusion_matrix.png\")\n",
        "\n",
        "# Display the plot\n",
        "plt.show()\n"
      ],
      "metadata": {
        "colab": {
          "base_uri": "https://localhost:8080/",
          "height": 693
        },
        "id": "h_zap3_Q8Xvo",
        "outputId": "3e1908c9-a638-477d-aae4-7b298a58d17a"
      },
      "execution_count": null,
      "outputs": [
        {
          "output_type": "stream",
          "name": "stdout",
          "text": [
            "Accuracy: 0.913458126330731\n",
            "Precision: 0.9577787223081355\n",
            "Recall: 0.6225249986047741\n",
            "Learning Time: 25.094597578048706 seconds\n",
            "Detection Time: 0.280902624130249 seconds\n",
            "Mean Squared Error: 0.487402413058907\n",
            "Confusion Matrix:\n",
            "[[11161    22    61     1     0]\n",
            " [  477  7606    12     0     0]\n",
            " [  384    52  1721     0     0]\n",
            " [  913     0     2    94     0]\n",
            " [   26     0     0     1    11]]\n",
            "Confusion matrix saved as confusion_matrix.png\n"
          ]
        },
        {
          "output_type": "display_data",
          "data": {
            "text/plain": [
              "<Figure size 640x480 with 2 Axes>"
            ],
            "image/png": "[encoded data removed]"
          },
          "metadata": {}
        }
      ]
    },
    {
      "cell_type": "code",
      "source": [
        "import matplotlib.pyplot as plt\n",
        "\n",
        "# Example data\n",
        "models = ['RFC', 'RFNC', 'RFRFE']\n",
        "accuracies = [0.913, 0.902, 0.913]\n",
        "precisions = [0.957, 0.809, 0.957]\n",
        "recalls = [0.622, 0.600, 0.622]\n",
        "\n",
        "# Bar positions\n",
        "x = range(len(models))\n",
        "\n",
        "plt.figure(figsize=(10, 6))\n",
        "\n",
        "\n",
        "# Plotting the bar chart\n",
        "plt.bar(x, accuracies, width=0.2, label='Accuracy')\n",
        "plt.bar([i + 0.2 for i in x], precisions, width=0.2, label='Precision')\n",
        "plt.bar([i + 0.4 for i in x], recalls, width=0.2, label='Recall')\n",
        "\n",
        "# X-axis labels and title\n",
        "plt.xlabel('Models')\n",
        "plt.ylabel('Scores')\n",
        "plt.title('Model Performance')\n",
        "\n",
        "# Customizing x-axis tick labels\n",
        "plt.xticks([i + 0.2 for i in x], models)\n",
        "\n",
        "\n",
        "# Adding a legend\n",
        "plt.legend()\n",
        "\n",
        "plt.grid()\n",
        "\n",
        "# Save the plot as an image file\n",
        "plt.savefig('Model Performance_RF.png', dpi=300)\n",
        "\n",
        "# Display a message indicating the file has been saved\n",
        "print(\"Model Performance.png\")\n",
        "\n",
        "# Display the chart\n",
        "plt.show()"
      ],
      "metadata": {
        "colab": {
          "base_uri": "https://localhost:8080/",
          "height": 581
        },
        "id": "PRfJNEKhABNG",
        "outputId": "7114d250-81b4-4822-ff77-b3a3fbcb66dd"
      },
      "execution_count": null,
      "outputs": [
        {
          "output_type": "stream",
          "name": "stdout",
          "text": [
            "Model Performance.png\n"
          ]
        },
        {
          "output_type": "display_data",
          "data": {
            "text/plain": [
              "<Figure size 1000x600 with 1 Axes>"
            ],
            "image/png": "[encoded data removed]"
          },
          "metadata": {}
        }
      ]
    },
    {
      "cell_type": "code",
      "source": [
        "import matplotlib.pyplot as plt\n",
        "\n",
        "# Assuming you have two lists of detection times and learning times\n",
        "detection_time = [0.268, 0.370, 0.280]  # Example detection time values\n",
        "learning_time = [12.863, 15.284, 25.094]  # Example learning time values\n",
        "\n",
        "# Create the x-axis values (assuming equal number of data points for both variables)\n",
        "x = range(len(detection_time))\n",
        "\n",
        "# Plot the detection time\n",
        "plt.plot(x, detection_time, label='Detection Time')\n",
        "\n",
        "# Plot the learning time\n",
        "plt.plot(x, learning_time, label='Learning Time')\n",
        "\n",
        "# Set labels and title\n",
        "plt.xlabel('Data Points')\n",
        "plt.ylabel('Time')\n",
        "plt.title('Detection Time vs Learning Time')\n",
        "\n",
        "# Add legend\n",
        "plt.legend()\n",
        "\n",
        "# Save the plot as an image file\n",
        "plt.savefig('Detection v Learning.png', dpi=300)\n",
        "\n",
        "# Display a message indicating the file has been saved\n",
        "print(\"DVL.png\")\n",
        "\n",
        "\n",
        "# Display the line graph\n",
        "plt.show()\n"
      ],
      "metadata": {
        "colab": {
          "base_uri": "https://localhost:8080/",
          "height": 489
        },
        "id": "PGaq7CKgBJbC",
        "outputId": "91aca96a-f447-4586-867a-5b1a2b698653"
      },
      "execution_count": null,
      "outputs": [
        {
          "output_type": "stream",
          "name": "stdout",
          "text": [
            "DVL.png\n"
          ]
        },
        {
          "output_type": "display_data",
          "data": {
            "text/plain": [
              "<Figure size 640x480 with 1 Axes>"
            ],
            "image/png": "[encoded data removed]"
          },
          "metadata": {}
        }
      ]
    }
  ],
  "metadata": {
    "accelerator": "GPU",
    "colab": {
      "provenance": [],
      "authorship_tag": "ABX9TyM+yed3a8tIbT+oj5Swp7HN",
      "include_colab_link": true
    },
    "kernelspec": {
      "display_name": "Python 3",
      "name": "python3"
    },
    "language_info": {
      "name": "python"
    }
  },
  "nbformat": 4,
  "nbformat_minor": 0
}